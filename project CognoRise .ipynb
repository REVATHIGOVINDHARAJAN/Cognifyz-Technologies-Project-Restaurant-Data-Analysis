{
 "cells": [
  {
   "cell_type": "markdown",
   "id": "77ee17c6-1ac5-472f-998a-4469e7dcdbf9",
   "metadata": {},
   "source": [
    "# Cognifyz Technologies Project"
   ]
  },
  {
   "cell_type": "markdown",
   "id": "87325872-f9b9-4fe7-9e1b-b2fe543c7267",
   "metadata": {},
   "source": [
    "\n",
    "# Restaurant Data Analysis\n"
   ]
  },
  {
   "cell_type": "markdown",
   "id": "9cbfe3f5-43db-4c41-a8e1-7e02f963b249",
   "metadata": {},
   "source": [
    "# Level 1"
   ]
  },
  {
   "cell_type": "markdown",
   "id": "ef4a9a7c-4134-4202-a954-1f18343230f1",
   "metadata": {},
   "source": [
    "# Task 1\n",
    "# Task: Top Cuisines\n",
    "#### 1.Determine the top three most common cuisines in the dataset.\n",
    "#### 2.Calculate the percentage of restaurants that serve each of the top cuisines.Selection deleted\n"
   ]
  },
  {
   "cell_type": "code",
   "execution_count": 1,
   "id": "340ba07f-1931-4955-bc53-a9401375949a",
   "metadata": {},
   "outputs": [],
   "source": [
    "# Import all the required libraries and modules\n",
    "import pandas as pd\n",
    "import numpy as np\n",
    "import matplotlib.pyplot as plt"
   ]
  },
  {
   "cell_type": "code",
   "execution_count": 2,
   "id": "420919c4-a13c-4468-be15-2ea4a8456c72",
   "metadata": {},
   "outputs": [
    {
     "data": {
      "text/html": [
       "<div>\n",
       "<style scoped>\n",
       "    .dataframe tbody tr th:only-of-type {\n",
       "        vertical-align: middle;\n",
       "    }\n",
       "\n",
       "    .dataframe tbody tr th {\n",
       "        vertical-align: top;\n",
       "    }\n",
       "\n",
       "    .dataframe thead th {\n",
       "        text-align: right;\n",
       "    }\n",
       "</style>\n",
       "<table border=\"1\" class=\"dataframe\">\n",
       "  <thead>\n",
       "    <tr style=\"text-align: right;\">\n",
       "      <th></th>\n",
       "      <th>Restaurant ID</th>\n",
       "      <th>Restaurant Name</th>\n",
       "      <th>Country Code</th>\n",
       "      <th>City</th>\n",
       "      <th>Address</th>\n",
       "      <th>Locality</th>\n",
       "      <th>Locality Verbose</th>\n",
       "      <th>Longitude</th>\n",
       "      <th>Latitude</th>\n",
       "      <th>Cuisines</th>\n",
       "      <th>...</th>\n",
       "      <th>Currency</th>\n",
       "      <th>Has Table booking</th>\n",
       "      <th>Has Online delivery</th>\n",
       "      <th>Is delivering now</th>\n",
       "      <th>Switch to order menu</th>\n",
       "      <th>Price range</th>\n",
       "      <th>Aggregate rating</th>\n",
       "      <th>Rating color</th>\n",
       "      <th>Rating text</th>\n",
       "      <th>Votes</th>\n",
       "    </tr>\n",
       "  </thead>\n",
       "  <tbody>\n",
       "    <tr>\n",
       "      <th>0</th>\n",
       "      <td>6317637</td>\n",
       "      <td>Le Petit Souffle</td>\n",
       "      <td>162</td>\n",
       "      <td>Makati City</td>\n",
       "      <td>Third Floor, Century City Mall, Kalayaan Avenu...</td>\n",
       "      <td>Century City Mall, Poblacion, Makati City</td>\n",
       "      <td>Century City Mall, Poblacion, Makati City, Mak...</td>\n",
       "      <td>121.027535</td>\n",
       "      <td>14.565443</td>\n",
       "      <td>French, Japanese, Desserts</td>\n",
       "      <td>...</td>\n",
       "      <td>Botswana Pula(P)</td>\n",
       "      <td>Yes</td>\n",
       "      <td>No</td>\n",
       "      <td>No</td>\n",
       "      <td>No</td>\n",
       "      <td>3</td>\n",
       "      <td>4.8</td>\n",
       "      <td>Dark Green</td>\n",
       "      <td>Excellent</td>\n",
       "      <td>314</td>\n",
       "    </tr>\n",
       "    <tr>\n",
       "      <th>1</th>\n",
       "      <td>6304287</td>\n",
       "      <td>Izakaya Kikufuji</td>\n",
       "      <td>162</td>\n",
       "      <td>Makati City</td>\n",
       "      <td>Little Tokyo, 2277 Chino Roces Avenue, Legaspi...</td>\n",
       "      <td>Little Tokyo, Legaspi Village, Makati City</td>\n",
       "      <td>Little Tokyo, Legaspi Village, Makati City, Ma...</td>\n",
       "      <td>121.014101</td>\n",
       "      <td>14.553708</td>\n",
       "      <td>Japanese</td>\n",
       "      <td>...</td>\n",
       "      <td>Botswana Pula(P)</td>\n",
       "      <td>Yes</td>\n",
       "      <td>No</td>\n",
       "      <td>No</td>\n",
       "      <td>No</td>\n",
       "      <td>3</td>\n",
       "      <td>4.5</td>\n",
       "      <td>Dark Green</td>\n",
       "      <td>Excellent</td>\n",
       "      <td>591</td>\n",
       "    </tr>\n",
       "    <tr>\n",
       "      <th>2</th>\n",
       "      <td>6300002</td>\n",
       "      <td>Heat - Edsa Shangri-La</td>\n",
       "      <td>162</td>\n",
       "      <td>Mandaluyong City</td>\n",
       "      <td>Edsa Shangri-La, 1 Garden Way, Ortigas, Mandal...</td>\n",
       "      <td>Edsa Shangri-La, Ortigas, Mandaluyong City</td>\n",
       "      <td>Edsa Shangri-La, Ortigas, Mandaluyong City, Ma...</td>\n",
       "      <td>121.056831</td>\n",
       "      <td>14.581404</td>\n",
       "      <td>Seafood, Asian, Filipino, Indian</td>\n",
       "      <td>...</td>\n",
       "      <td>Botswana Pula(P)</td>\n",
       "      <td>Yes</td>\n",
       "      <td>No</td>\n",
       "      <td>No</td>\n",
       "      <td>No</td>\n",
       "      <td>4</td>\n",
       "      <td>4.4</td>\n",
       "      <td>Green</td>\n",
       "      <td>Very Good</td>\n",
       "      <td>270</td>\n",
       "    </tr>\n",
       "    <tr>\n",
       "      <th>3</th>\n",
       "      <td>6318506</td>\n",
       "      <td>Ooma</td>\n",
       "      <td>162</td>\n",
       "      <td>Mandaluyong City</td>\n",
       "      <td>Third Floor, Mega Fashion Hall, SM Megamall, O...</td>\n",
       "      <td>SM Megamall, Ortigas, Mandaluyong City</td>\n",
       "      <td>SM Megamall, Ortigas, Mandaluyong City, Mandal...</td>\n",
       "      <td>121.056475</td>\n",
       "      <td>14.585318</td>\n",
       "      <td>Japanese, Sushi</td>\n",
       "      <td>...</td>\n",
       "      <td>Botswana Pula(P)</td>\n",
       "      <td>No</td>\n",
       "      <td>No</td>\n",
       "      <td>No</td>\n",
       "      <td>No</td>\n",
       "      <td>4</td>\n",
       "      <td>4.9</td>\n",
       "      <td>Dark Green</td>\n",
       "      <td>Excellent</td>\n",
       "      <td>365</td>\n",
       "    </tr>\n",
       "    <tr>\n",
       "      <th>4</th>\n",
       "      <td>6314302</td>\n",
       "      <td>Sambo Kojin</td>\n",
       "      <td>162</td>\n",
       "      <td>Mandaluyong City</td>\n",
       "      <td>Third Floor, Mega Atrium, SM Megamall, Ortigas...</td>\n",
       "      <td>SM Megamall, Ortigas, Mandaluyong City</td>\n",
       "      <td>SM Megamall, Ortigas, Mandaluyong City, Mandal...</td>\n",
       "      <td>121.057508</td>\n",
       "      <td>14.584450</td>\n",
       "      <td>Japanese, Korean</td>\n",
       "      <td>...</td>\n",
       "      <td>Botswana Pula(P)</td>\n",
       "      <td>Yes</td>\n",
       "      <td>No</td>\n",
       "      <td>No</td>\n",
       "      <td>No</td>\n",
       "      <td>4</td>\n",
       "      <td>4.8</td>\n",
       "      <td>Dark Green</td>\n",
       "      <td>Excellent</td>\n",
       "      <td>229</td>\n",
       "    </tr>\n",
       "    <tr>\n",
       "      <th>...</th>\n",
       "      <td>...</td>\n",
       "      <td>...</td>\n",
       "      <td>...</td>\n",
       "      <td>...</td>\n",
       "      <td>...</td>\n",
       "      <td>...</td>\n",
       "      <td>...</td>\n",
       "      <td>...</td>\n",
       "      <td>...</td>\n",
       "      <td>...</td>\n",
       "      <td>...</td>\n",
       "      <td>...</td>\n",
       "      <td>...</td>\n",
       "      <td>...</td>\n",
       "      <td>...</td>\n",
       "      <td>...</td>\n",
       "      <td>...</td>\n",
       "      <td>...</td>\n",
       "      <td>...</td>\n",
       "      <td>...</td>\n",
       "      <td>...</td>\n",
       "    </tr>\n",
       "    <tr>\n",
       "      <th>9546</th>\n",
       "      <td>5915730</td>\n",
       "      <td>Naml۱ Gurme</td>\n",
       "      <td>208</td>\n",
       "      <td>��stanbul</td>\n",
       "      <td>Kemanke�� Karamustafa Pa��a Mahallesi, R۱ht۱m ...</td>\n",
       "      <td>Karak�_y</td>\n",
       "      <td>Karak�_y, ��stanbul</td>\n",
       "      <td>28.977392</td>\n",
       "      <td>41.022793</td>\n",
       "      <td>Turkish</td>\n",
       "      <td>...</td>\n",
       "      <td>Turkish Lira(TL)</td>\n",
       "      <td>No</td>\n",
       "      <td>No</td>\n",
       "      <td>No</td>\n",
       "      <td>No</td>\n",
       "      <td>3</td>\n",
       "      <td>4.1</td>\n",
       "      <td>Green</td>\n",
       "      <td>Very Good</td>\n",
       "      <td>788</td>\n",
       "    </tr>\n",
       "    <tr>\n",
       "      <th>9547</th>\n",
       "      <td>5908749</td>\n",
       "      <td>Ceviz A��ac۱</td>\n",
       "      <td>208</td>\n",
       "      <td>��stanbul</td>\n",
       "      <td>Ko��uyolu Mahallesi, Muhittin ��st�_nda�� Cadd...</td>\n",
       "      <td>Ko��uyolu</td>\n",
       "      <td>Ko��uyolu, ��stanbul</td>\n",
       "      <td>29.041297</td>\n",
       "      <td>41.009847</td>\n",
       "      <td>World Cuisine, Patisserie, Cafe</td>\n",
       "      <td>...</td>\n",
       "      <td>Turkish Lira(TL)</td>\n",
       "      <td>No</td>\n",
       "      <td>No</td>\n",
       "      <td>No</td>\n",
       "      <td>No</td>\n",
       "      <td>3</td>\n",
       "      <td>4.2</td>\n",
       "      <td>Green</td>\n",
       "      <td>Very Good</td>\n",
       "      <td>1034</td>\n",
       "    </tr>\n",
       "    <tr>\n",
       "      <th>9548</th>\n",
       "      <td>5915807</td>\n",
       "      <td>Huqqa</td>\n",
       "      <td>208</td>\n",
       "      <td>��stanbul</td>\n",
       "      <td>Kuru�_e��me Mahallesi, Muallim Naci Caddesi, N...</td>\n",
       "      <td>Kuru�_e��me</td>\n",
       "      <td>Kuru�_e��me, ��stanbul</td>\n",
       "      <td>29.034640</td>\n",
       "      <td>41.055817</td>\n",
       "      <td>Italian, World Cuisine</td>\n",
       "      <td>...</td>\n",
       "      <td>Turkish Lira(TL)</td>\n",
       "      <td>No</td>\n",
       "      <td>No</td>\n",
       "      <td>No</td>\n",
       "      <td>No</td>\n",
       "      <td>4</td>\n",
       "      <td>3.7</td>\n",
       "      <td>Yellow</td>\n",
       "      <td>Good</td>\n",
       "      <td>661</td>\n",
       "    </tr>\n",
       "    <tr>\n",
       "      <th>9549</th>\n",
       "      <td>5916112</td>\n",
       "      <td>A���k Kahve</td>\n",
       "      <td>208</td>\n",
       "      <td>��stanbul</td>\n",
       "      <td>Kuru�_e��me Mahallesi, Muallim Naci Caddesi, N...</td>\n",
       "      <td>Kuru�_e��me</td>\n",
       "      <td>Kuru�_e��me, ��stanbul</td>\n",
       "      <td>29.036019</td>\n",
       "      <td>41.057979</td>\n",
       "      <td>Restaurant Cafe</td>\n",
       "      <td>...</td>\n",
       "      <td>Turkish Lira(TL)</td>\n",
       "      <td>No</td>\n",
       "      <td>No</td>\n",
       "      <td>No</td>\n",
       "      <td>No</td>\n",
       "      <td>4</td>\n",
       "      <td>4.0</td>\n",
       "      <td>Green</td>\n",
       "      <td>Very Good</td>\n",
       "      <td>901</td>\n",
       "    </tr>\n",
       "    <tr>\n",
       "      <th>9550</th>\n",
       "      <td>5927402</td>\n",
       "      <td>Walter's Coffee Roastery</td>\n",
       "      <td>208</td>\n",
       "      <td>��stanbul</td>\n",
       "      <td>Cafea��a Mahallesi, Bademalt۱ Sokak, No 21/B, ...</td>\n",
       "      <td>Moda</td>\n",
       "      <td>Moda, ��stanbul</td>\n",
       "      <td>29.026016</td>\n",
       "      <td>40.984776</td>\n",
       "      <td>Cafe</td>\n",
       "      <td>...</td>\n",
       "      <td>Turkish Lira(TL)</td>\n",
       "      <td>No</td>\n",
       "      <td>No</td>\n",
       "      <td>No</td>\n",
       "      <td>No</td>\n",
       "      <td>2</td>\n",
       "      <td>4.0</td>\n",
       "      <td>Green</td>\n",
       "      <td>Very Good</td>\n",
       "      <td>591</td>\n",
       "    </tr>\n",
       "  </tbody>\n",
       "</table>\n",
       "<p>9551 rows × 21 columns</p>\n",
       "</div>"
      ],
      "text/plain": [
       "      Restaurant ID           Restaurant Name  Country Code              City  \\\n",
       "0           6317637          Le Petit Souffle           162       Makati City   \n",
       "1           6304287          Izakaya Kikufuji           162       Makati City   \n",
       "2           6300002    Heat - Edsa Shangri-La           162  Mandaluyong City   \n",
       "3           6318506                      Ooma           162  Mandaluyong City   \n",
       "4           6314302               Sambo Kojin           162  Mandaluyong City   \n",
       "...             ...                       ...           ...               ...   \n",
       "9546        5915730               Naml۱ Gurme           208         ��stanbul   \n",
       "9547        5908749              Ceviz A��ac۱           208         ��stanbul   \n",
       "9548        5915807                     Huqqa           208         ��stanbul   \n",
       "9549        5916112               A���k Kahve           208         ��stanbul   \n",
       "9550        5927402  Walter's Coffee Roastery           208         ��stanbul   \n",
       "\n",
       "                                                Address  \\\n",
       "0     Third Floor, Century City Mall, Kalayaan Avenu...   \n",
       "1     Little Tokyo, 2277 Chino Roces Avenue, Legaspi...   \n",
       "2     Edsa Shangri-La, 1 Garden Way, Ortigas, Mandal...   \n",
       "3     Third Floor, Mega Fashion Hall, SM Megamall, O...   \n",
       "4     Third Floor, Mega Atrium, SM Megamall, Ortigas...   \n",
       "...                                                 ...   \n",
       "9546  Kemanke�� Karamustafa Pa��a Mahallesi, R۱ht۱m ...   \n",
       "9547  Ko��uyolu Mahallesi, Muhittin ��st�_nda�� Cadd...   \n",
       "9548  Kuru�_e��me Mahallesi, Muallim Naci Caddesi, N...   \n",
       "9549  Kuru�_e��me Mahallesi, Muallim Naci Caddesi, N...   \n",
       "9550  Cafea��a Mahallesi, Bademalt۱ Sokak, No 21/B, ...   \n",
       "\n",
       "                                        Locality  \\\n",
       "0      Century City Mall, Poblacion, Makati City   \n",
       "1     Little Tokyo, Legaspi Village, Makati City   \n",
       "2     Edsa Shangri-La, Ortigas, Mandaluyong City   \n",
       "3         SM Megamall, Ortigas, Mandaluyong City   \n",
       "4         SM Megamall, Ortigas, Mandaluyong City   \n",
       "...                                          ...   \n",
       "9546                                    Karak�_y   \n",
       "9547                                   Ko��uyolu   \n",
       "9548                                 Kuru�_e��me   \n",
       "9549                                 Kuru�_e��me   \n",
       "9550                                        Moda   \n",
       "\n",
       "                                       Locality Verbose   Longitude  \\\n",
       "0     Century City Mall, Poblacion, Makati City, Mak...  121.027535   \n",
       "1     Little Tokyo, Legaspi Village, Makati City, Ma...  121.014101   \n",
       "2     Edsa Shangri-La, Ortigas, Mandaluyong City, Ma...  121.056831   \n",
       "3     SM Megamall, Ortigas, Mandaluyong City, Mandal...  121.056475   \n",
       "4     SM Megamall, Ortigas, Mandaluyong City, Mandal...  121.057508   \n",
       "...                                                 ...         ...   \n",
       "9546                                Karak�_y, ��stanbul   28.977392   \n",
       "9547                               Ko��uyolu, ��stanbul   29.041297   \n",
       "9548                             Kuru�_e��me, ��stanbul   29.034640   \n",
       "9549                             Kuru�_e��me, ��stanbul   29.036019   \n",
       "9550                                    Moda, ��stanbul   29.026016   \n",
       "\n",
       "       Latitude                          Cuisines  ...          Currency  \\\n",
       "0     14.565443        French, Japanese, Desserts  ...  Botswana Pula(P)   \n",
       "1     14.553708                          Japanese  ...  Botswana Pula(P)   \n",
       "2     14.581404  Seafood, Asian, Filipino, Indian  ...  Botswana Pula(P)   \n",
       "3     14.585318                   Japanese, Sushi  ...  Botswana Pula(P)   \n",
       "4     14.584450                  Japanese, Korean  ...  Botswana Pula(P)   \n",
       "...         ...                               ...  ...               ...   \n",
       "9546  41.022793                           Turkish  ...  Turkish Lira(TL)   \n",
       "9547  41.009847   World Cuisine, Patisserie, Cafe  ...  Turkish Lira(TL)   \n",
       "9548  41.055817            Italian, World Cuisine  ...  Turkish Lira(TL)   \n",
       "9549  41.057979                   Restaurant Cafe  ...  Turkish Lira(TL)   \n",
       "9550  40.984776                              Cafe  ...  Turkish Lira(TL)   \n",
       "\n",
       "     Has Table booking Has Online delivery Is delivering now  \\\n",
       "0                  Yes                  No                No   \n",
       "1                  Yes                  No                No   \n",
       "2                  Yes                  No                No   \n",
       "3                   No                  No                No   \n",
       "4                  Yes                  No                No   \n",
       "...                ...                 ...               ...   \n",
       "9546                No                  No                No   \n",
       "9547                No                  No                No   \n",
       "9548                No                  No                No   \n",
       "9549                No                  No                No   \n",
       "9550                No                  No                No   \n",
       "\n",
       "     Switch to order menu Price range  Aggregate rating  Rating color  \\\n",
       "0                      No           3               4.8    Dark Green   \n",
       "1                      No           3               4.5    Dark Green   \n",
       "2                      No           4               4.4         Green   \n",
       "3                      No           4               4.9    Dark Green   \n",
       "4                      No           4               4.8    Dark Green   \n",
       "...                   ...         ...               ...           ...   \n",
       "9546                   No           3               4.1         Green   \n",
       "9547                   No           3               4.2         Green   \n",
       "9548                   No           4               3.7        Yellow   \n",
       "9549                   No           4               4.0         Green   \n",
       "9550                   No           2               4.0         Green   \n",
       "\n",
       "     Rating text Votes  \n",
       "0      Excellent   314  \n",
       "1      Excellent   591  \n",
       "2      Very Good   270  \n",
       "3      Excellent   365  \n",
       "4      Excellent   229  \n",
       "...          ...   ...  \n",
       "9546   Very Good   788  \n",
       "9547   Very Good  1034  \n",
       "9548        Good   661  \n",
       "9549   Very Good   901  \n",
       "9550   Very Good   591  \n",
       "\n",
       "[9551 rows x 21 columns]"
      ]
     },
     "execution_count": 2,
     "metadata": {},
     "output_type": "execute_result"
    }
   ],
   "source": [
    "# Give df to access the data\n",
    "# Reading data from Csv file\n",
    "df= pd.read_csv(\"C:\\\\Users\\\\revat\\Downloads\\Dataset.csv\")\n",
    "df"
   ]
  },
  {
   "cell_type": "markdown",
   "id": "eedc9d56-801b-4955-8b20-5f3b551bfde3",
   "metadata": {},
   "source": [
    "# Task 1: Top Cuisines\n",
    "### Q1 : Determine the top three most Common cuisines in the dataset."
   ]
  },
  {
   "cell_type": "code",
   "execution_count": 27,
   "id": "07f2f9c3-8ea3-4703-b02a-49ef1a7e4123",
   "metadata": {},
   "outputs": [
    {
     "name": "stdout",
     "output_type": "stream",
     "text": [
      "(9551, 21)\n",
      "Index(['Restaurant ID', 'Restaurant Name', 'Country Code', 'City', 'Address',\n",
      "       'Locality', 'Locality Verbose', 'Longitude', 'Latitude', 'Cuisines',\n",
      "       'Average Cost for two', 'Currency', 'Has Table booking',\n",
      "       'Has Online delivery', 'Is delivering now', 'Switch to order menu',\n",
      "       'Price range', 'Aggregate rating', 'Rating color', 'Rating text',\n",
      "       'Votes'],\n",
      "      dtype='object')\n"
     ]
    }
   ],
   "source": [
    "print(df.shape)\n",
    "print(df.columns)"
   ]
  },
  {
   "cell_type": "code",
   "execution_count": 28,
   "id": "30bc07ad-5e50-4e0a-943e-16618f38f9b9",
   "metadata": {},
   "outputs": [
    {
     "name": "stdout",
     "output_type": "stream",
     "text": [
      "0             French, Japanese, Desserts\n",
      "1                               Japanese\n",
      "2       Seafood, Asian, Filipino, Indian\n",
      "3                        Japanese, Sushi\n",
      "4                       Japanese, Korean\n",
      "                      ...               \n",
      "9546                             Turkish\n",
      "9547     World Cuisine, Patisserie, Cafe\n",
      "9548              Italian, World Cuisine\n",
      "9549                     Restaurant Cafe\n",
      "9550                                Cafe\n",
      "Name: Cuisines, Length: 9551, dtype: object\n"
     ]
    }
   ],
   "source": [
    "print(df['Cuisines'])"
   ]
  },
  {
   "cell_type": "code",
   "execution_count": 29,
   "id": "f3ebae47-65b2-49c5-953b-97e6a772432d",
   "metadata": {},
   "outputs": [
    {
     "name": "stdout",
     "output_type": "stream",
     "text": [
      "Cuisines\n",
      "North Indian      3960\n",
      "Chinese           2735\n",
      "Fast Food         1986\n",
      "Mughlai            995\n",
      "Italian            764\n",
      "                  ... \n",
      "Fish and Chips       1\n",
      "Malwani              1\n",
      "Cuisine Varies       1\n",
      "Soul Food            1\n",
      "B�_rek               1\n",
      "Name: count, Length: 145, dtype: int64\n",
      "The Top 3 Cuisines are: Cuisines\n",
      "North Indian    3960\n",
      "Chinese         2735\n",
      "Fast Food       1986\n",
      "Name: count, dtype: int64\n"
     ]
    }
   ],
   "source": [
    "cuisine_count= df['Cuisines'].str.split(', ').explode('Cuisines').value_counts()\n",
    "print(cuisine_count)\n",
    "top_cuisine=cuisine_count.head(3)\n",
    "print(\"The Top 3 Cuisines are:\",top_cuisine)"
   ]
  },
  {
   "cell_type": "code",
   "execution_count": 30,
   "id": "8c39fc4f-d340-460f-a4d1-869ef7729d17",
   "metadata": {},
   "outputs": [
    {
     "data": {
      "image/png": "[encoded data removed]",
      "text/plain": [
       "<Figure size 640x480 with 1 Axes>"
      ]
     },
     "metadata": {},
     "output_type": "display_data"
    }
   ],
   "source": [
    "import matplotlib.pyplot as plt\n",
    "import pandas as pd\n",
    "\n",
    "# Example data for illustration\n",
    "top_cuisine = pd.Series(data=[10, 20, 30], index=['Cuisine1', 'Cuisine2', 'Cuisine3'])\n",
    "colours = ['#FF5733', '#33FF57', '#3357FF']  # Example colors\n",
    "\n",
    "# Plotting the bar chart\n",
    "plt.bar(top_cuisine.index, top_cuisine.values, color=colours)\n",
    "plt.xlabel('Cuisine')\n",
    "plt.ylabel('Count')  # Corrected line\n",
    "plt.title('Top Three Cuisines')\n",
    "plt.show()\n"
   ]
  },
  {
   "cell_type": "markdown",
   "id": "2642bd08-b59b-43a5-a2e0-c82de2cc8c56",
   "metadata": {},
   "source": [
    "# Insights:\n",
    "## Top Three Cuisines:\n",
    "####  - The bar chart displays the most popular cuisines based on their counts.\n",
    "####  - Helps identify which cuisines are most favored.\n",
    "## Visual Representation:\n",
    "####   - Different colors distinguish between cuisines.\n",
    "####  - Labels and title make the chart easy to interpret."
   ]
  },
  {
   "cell_type": "markdown",
   "id": "42be3ba4-60b4-455a-97d2-0e36637957ec",
   "metadata": {},
   "source": [
    "## Q2. Calculate the Percentage ofRestaurants that serve each of the top cuisines."
   ]
  },
  {
   "cell_type": "code",
   "execution_count": 31,
   "id": "11469a28-c005-4fca-b941-be91b5e1d2e4",
   "metadata": {},
   "outputs": [
    {
     "name": "stdout",
     "output_type": "stream",
     "text": [
      "9551\n",
      "The Market share of Top 5 Cuisines are : Cuisines\n",
      "North Indian    41.461627\n",
      "Chinese         28.635745\n",
      "Fast Food       20.793634\n",
      "Mughlai         10.417757\n",
      "Italian          7.999162\n",
      "Name: count, dtype: float64\n"
     ]
    }
   ],
   "source": [
    "total_restaurant =len(df)\n",
    "print(total_restaurant)\n",
    "top_cuisine10 =cuisine_count.head()\n",
    "percentages =(top_cuisine10/total_restaurant)*100\n",
    "print(\"The Market share of Top 5 Cuisines are :\",percentages)"
   ]
  },
  {
   "cell_type": "code",
   "execution_count": 32,
   "id": "3bc30624-ea8f-4f04-b8e2-dfde1fc02032",
   "metadata": {},
   "outputs": [
    {
     "data": {
      "image/png": "[encoded data removed]",
      "text/plain": [
       "<Figure size 640x480 with 1 Axes>"
      ]
     },
     "metadata": {},
     "output_type": "display_data"
    }
   ],
   "source": [
    "plt.bar(top_cuisine10.index, percentages.values, color=colours)\n",
    "plt.xlabel('Cuisine Name')\n",
    "plt.ylabel('Percentages')\n",
    "plt.title('Top 10 Cuisines by Percentage')\n",
    "plt.xticks(rotation=45)\n",
    "plt.show()"
   ]
  },
  {
   "cell_type": "markdown",
   "id": "d860a325-7251-4003-bc0a-1a0d08dd302a",
   "metadata": {},
   "source": [
    "# Insights:\n",
    "## Top 10 Cuisines by Percentage:\n",
    "#### - The bar chart shows the top 10 cuisines ranked by their percentage values.\n",
    "#### - Highlights the relative popularity of each cuisine.\n",
    "## Visual Representation:\n",
    "#### - Colors differentiate cuisines.\n",
    "#### - Rotated x-axis labels (45°) improve readability of cuisine names.\n",
    "#### - Clear labels and title enhance understanding."
   ]
  },
  {
   "cell_type": "markdown",
   "id": "d7db1249-10c8-4b83-b43f-15f7a1ff146a",
   "metadata": {},
   "source": [
    "# Task 2\n",
    "# Task: City Analysis\n",
    "#### 1.Identify the city with the highest numberof restaurants in the dataset.\n",
    "#### 2.Calculate the average rating forrestaurants in each city.\n",
    "#### 3.Determine the city with the highestaverage rating.\n"
   ]
  },
  {
   "cell_type": "markdown",
   "id": "4efadb55-b6f2-4c29-9d24-bcb284e56633",
   "metadata": {},
   "source": [
    "### Q1.Identify the city with the highest number of resurants in the dataset."
   ]
  },
  {
   "cell_type": "code",
   "execution_count": 33,
   "id": "1de9d86b-f8e4-4fc5-a38a-24deef893806",
   "metadata": {},
   "outputs": [
    {
     "name": "stdout",
     "output_type": "stream",
     "text": [
      "Index(['Restaurant ID', 'Restaurant Name', 'Country Code', 'City', 'Address',\n",
      "       'Locality', 'Locality Verbose', 'Longitude', 'Latitude', 'Cuisines',\n",
      "       'Average Cost for two', 'Currency', 'Has Table booking',\n",
      "       'Has Online delivery', 'Is delivering now', 'Switch to order menu',\n",
      "       'Price range', 'Aggregate rating', 'Rating color', 'Rating text',\n",
      "       'Votes'],\n",
      "      dtype='object')\n"
     ]
    }
   ],
   "source": [
    "print(df.columns)"
   ]
  },
  {
   "cell_type": "code",
   "execution_count": 34,
   "id": "c578ed3e-bb0c-4a20-a496-4273323c8114",
   "metadata": {},
   "outputs": [
    {
     "name": "stdout",
     "output_type": "stream",
     "text": [
      "City with the highest number of restaurants: New Delhi\n",
      "City\n",
      "New Delhi    5473\n",
      "Name: count, dtype: int64\n"
     ]
    }
   ],
   "source": [
    " city_count =df['City'].value_counts()\n",
    " restaurants_no= city_count.head(1)\n",
    " print(\"City with the highest number of restaurants:\" ,city_count.idxmax())\n",
    " print( restaurants_no)"
   ]
  },
  {
   "cell_type": "markdown",
   "id": "a0a97ea1-b875-416d-9a07-d2c9b5353c5b",
   "metadata": {},
   "source": [
    "### Q2.Calculate the average rating for restaurants in each city.\n"
   ]
  },
  {
   "cell_type": "code",
   "execution_count": 35,
   "id": "3d713949-dd75-4885-8b26-b9d60cc3ea1b",
   "metadata": {},
   "outputs": [
    {
     "name": "stdout",
     "output_type": "stream",
     "text": [
      "The averrage Rating of each city : City\n",
      "Abu Dhabi          4.300000\n",
      "Agra               3.965000\n",
      "Ahmedabad          4.161905\n",
      "Albany             3.555000\n",
      "Allahabad          3.395000\n",
      "                     ...   \n",
      "Weirton            3.900000\n",
      "Wellington City    4.250000\n",
      "Winchester Bay     3.200000\n",
      "Yorkton            3.300000\n",
      "��stanbul          4.292857\n",
      "Name: Aggregate rating, Length: 141, dtype: float64\n"
     ]
    }
   ],
   "source": [
    "rating_by_each_city =df.groupby('City')['Aggregate rating'].mean()\n",
    "print(\"The averrage Rating of each city :\",rating_by_each_city)"
   ]
  },
  {
   "cell_type": "markdown",
   "id": "a7591b98-e2a1-4d71-92e3-0907bafc6910",
   "metadata": {},
   "source": [
    "### Q3.Determine the city with the highestaverage rating."
   ]
  },
  {
   "cell_type": "code",
   "execution_count": 36,
   "id": "6cf0496c-5aa4-4b6e-9610-ca8b6ced907c",
   "metadata": {},
   "outputs": [
    {
     "name": "stdout",
     "output_type": "stream",
     "text": [
      "The city With Higest Avg .Rating is: Inner City , Rating - 4.9\n"
     ]
    }
   ],
   "source": [
    "top_rated_city =rating_by_each_city.idxmax()\n",
    "value=rating_by_each_city.max()\n",
    "print(\"The city With Higest Avg .Rating is:\",top_rated_city ,\",\",\"Rating -\",value)"
   ]
  },
  {
   "cell_type": "markdown",
   "id": "b8ee8e13-aa83-4efd-8643-1e7e507b8a22",
   "metadata": {},
   "source": [
    "# Task 3"
   ]
  },
  {
   "cell_type": "markdown",
   "id": "da17c5c4-52c8-4f87-8288-dd02a7359c53",
   "metadata": {},
   "source": [
    "# Task: Price Range Distributiony\r\n"
   ]
  },
  {
   "cell_type": "markdown",
   "id": "56dfe37d-96d7-4a1b-a714-150c1dc88f48",
   "metadata": {},
   "source": [
    "####  Q1.Create a histogram or bar chart tovisualize the distribution of price rangesamong the restaurants.\n",
    "####  Q2.Calculate the percentage of restaurants in each price range categor"
   ]
  },
  {
   "cell_type": "code",
   "execution_count": 37,
   "id": "8a2770e5-def6-416f-b6a2-33ee1e1244f0",
   "metadata": {},
   "outputs": [
    {
     "name": "stdout",
     "output_type": "stream",
     "text": [
      "Index(['Restaurant ID', 'Restaurant Name', 'Country Code', 'City', 'Address',\n",
      "       'Locality', 'Locality Verbose', 'Longitude', 'Latitude', 'Cuisines',\n",
      "       'Average Cost for two', 'Currency', 'Has Table booking',\n",
      "       'Has Online delivery', 'Is delivering now', 'Switch to order menu',\n",
      "       'Price range', 'Aggregate rating', 'Rating color', 'Rating text',\n",
      "       'Votes'],\n",
      "      dtype='object')\n"
     ]
    }
   ],
   "source": [
    "print(df.columns)"
   ]
  },
  {
   "cell_type": "markdown",
   "id": "c1e8ff77-988b-4a9b-b329-d41315d93a9f",
   "metadata": {},
   "source": [
    "\n",
    "#### Q1.Create a histogram or bar chart tovisualize the distribution of price rangesamong the restaurants."
   ]
  },
  {
   "cell_type": "code",
   "execution_count": 38,
   "id": "04fa9306-e37d-436e-ac7d-620377271309",
   "metadata": {},
   "outputs": [
    {
     "data": {
      "image/png": "[encoded data removed]",
      "text/plain": [
       "<Figure size 640x480 with 1 Axes>"
      ]
     },
     "metadata": {},
     "output_type": "display_data"
    }
   ],
   "source": [
    "df.hist(column=\"Price range\")\n",
    "plt.title('Distribution of Price Ranges')\n",
    "plt.xlabel('Price Range')\n",
    "plt.ylabel('Frequency')\n",
    "plt.show()\n"
   ]
  },
  {
   "cell_type": "markdown",
   "id": "10d0a83e-ba16-4217-b47a-c1c4ebdad01e",
   "metadata": {},
   "source": [
    "# Insights:\n",
    "### Price Range Distribution:\n",
    "####   - The histogram shows how frequently each price range occurs in the dataset.\n",
    "####   - Highlights the most and least common price ranges.\n",
    "#### Visual Representation:\n",
    "####  - Title and axis labels provide context.\n",
    "####  - Frequency of price ranges is clearly depicted.¶"
   ]
  },
  {
   "cell_type": "markdown",
   "id": "53049a53-1057-45b0-8252-3b7538121c34",
   "metadata": {},
   "source": [
    "### Q2.Calculate the percentage of restaurants in each price range category"
   ]
  },
  {
   "cell_type": "code",
   "execution_count": 39,
   "id": "feafcd4b-e769-4db9-a3bc-42034c51f878",
   "metadata": {},
   "outputs": [
    {
     "name": "stdout",
     "output_type": "stream",
     "text": [
      "The % of Restaurant in each Price Range Category are:\n",
      "   Price range  Count  Percentage\n",
      "0            1   4444       46.53\n",
      "1            2   3113       32.59\n",
      "2            3   1408       14.74\n",
      "3            4    586        6.14\n"
     ]
    }
   ],
   "source": [
    "price_range_count = df[\"Price range\"].value_counts()\n",
    "total_restaurant = len(df)\n",
    "percentage = round((price_range_count / total_restaurant) * 100, 2)\n",
    "\n",
    "# Create a DataFrame from the counts and percentages\n",
    "price_range_df = pd.DataFrame({\n",
    "    \"Price range\": price_range_count.index,\n",
    "    \"Count\": price_range_count.values,\n",
    "    \"Percentage\": percentage.values\n",
    "})\n",
    "\n",
    "print(\"The % of Restaurant in each Price Range Category are:\")\n",
    "print(price_range_df)\n"
   ]
  },
  {
   "cell_type": "code",
   "execution_count": 40,
   "id": "7049563b-837f-4b73-aea5-dca14a17139d",
   "metadata": {},
   "outputs": [
    {
     "data": {
      "image/png": "[encoded data removed]",
      "text/plain": [
       "<Figure size 640x480 with 1 Axes>"
      ]
     },
     "metadata": {},
     "output_type": "display_data"
    }
   ],
   "source": [
    "plt.pie(percentage, labels=percentage.index, autopct='%1.1f%%', colors=[\"yellow\", \"lightgreen\", \"pink\", \"silver\"])\n",
    "plt.title(\"Price Range Percentage\")\n",
    "plt.show()\n"
   ]
  },
  {
   "cell_type": "markdown",
   "id": "b4df7b5d-3f9f-4380-baa8-5ab7e11841eb",
   "metadata": {},
   "source": [
    "# Insights:\n",
    "## Price Range Distribution:\n",
    "#### - The pie chart illustrates the percentage distribution of different price ranges.\n",
    "#### - Highlights the proportion of each price range in the dataset.\n",
    "## Visual Representation:\n",
    "####  - Colors differentiate price ranges.\n",
    "####  - Percentages are displayed on the chart for clarity.\n",
    "####  - Title provides context for the distribution.¶"
   ]
  },
  {
   "cell_type": "markdown",
   "id": "18e7ded3-45db-4dca-b1f1-7ec370312ff8",
   "metadata": {},
   "source": [
    "# Task 4\n",
    "# Task: Online Delivery"
   ]
  },
  {
   "cell_type": "markdown",
   "id": "01b5b08a-15e8-4d08-aa5b-e2b80dad24b0",
   "metadata": {},
   "source": [
    "## Q1.Determine the percentage of restaurants that offer online delivery.\n",
    "## Q2.Compare the average ratings of restaurants with and without online delivery."
   ]
  },
  {
   "cell_type": "markdown",
   "id": "0e39acd9-57c0-4048-8050-39f983b637e9",
   "metadata": {},
   "source": [
    "## Q1.Determine the percentage of restaurants that offer online delivery."
   ]
  },
  {
   "cell_type": "code",
   "execution_count": 41,
   "id": "1b26f5b0-331d-4c1f-825d-926beb10ec1f",
   "metadata": {},
   "outputs": [
    {
     "name": "stdout",
     "output_type": "stream",
     "text": [
      "Index(['Restaurant ID', 'Restaurant Name', 'Country Code', 'City', 'Address',\n",
      "       'Locality', 'Locality Verbose', 'Longitude', 'Latitude', 'Cuisines',\n",
      "       'Average Cost for two', 'Currency', 'Has Table booking',\n",
      "       'Has Online delivery', 'Is delivering now', 'Switch to order menu',\n",
      "       'Price range', 'Aggregate rating', 'Rating color', 'Rating text',\n",
      "       'Votes'],\n",
      "      dtype='object')\n"
     ]
    }
   ],
   "source": [
    "print(df.columns)"
   ]
  },
  {
   "cell_type": "code",
   "execution_count": 42,
   "id": "3c309e3b-5703-42b5-bdaa-2d6e1af085b1",
   "metadata": {},
   "outputs": [
    {
     "name": "stdout",
     "output_type": "stream",
     "text": [
      "Total Restaurants with Online Delivery: 2451\n"
     ]
    }
   ],
   "source": [
    "online_delivery = df['Has Online delivery'].value_counts().get('Yes', 0)\n",
    "print(\"Total Restaurants with Online Delivery:\", online_delivery)\n"
   ]
  },
  {
   "cell_type": "code",
   "execution_count": 43,
   "id": "b8f23486-2e23-4508-b1dd-9eef09b5f8a1",
   "metadata": {},
   "outputs": [
    {
     "name": "stdout",
     "output_type": "stream",
     "text": [
      "Restaurant with No Online Delivery : 7100\n"
     ]
    }
   ],
   "source": [
    "no= df['Has Online delivery'].value_counts().get('No',0)\n",
    "print(\"Restaurant with No Online Delivery :\",no)"
   ]
  },
  {
   "cell_type": "code",
   "execution_count": 44,
   "id": "11a12ad7-062e-44b9-b9ec-3b10c0717693",
   "metadata": {},
   "outputs": [
    {
     "name": "stdout",
     "output_type": "stream",
     "text": [
      "Total % of online Delivery : 25.66\n"
     ]
    }
   ],
   "source": [
    "Row_count =len(df)\n",
    "percentage_of_online_delivery =round((online_delivery /Row_count)*100,2)\n",
    "print(\"Total % of online Delivery :\",percentage_of_online_delivery)"
   ]
  },
  {
   "cell_type": "markdown",
   "id": "26d720c7-f9e3-4dd4-bca7-c7cb6856a5d8",
   "metadata": {},
   "source": [
    "###  Q2.Compare the average ratings of restaurants with and without online delivery.\n"
   ]
  },
  {
   "cell_type": "code",
   "execution_count": 45,
   "id": "23bb07d5-4b81-421a-ab40-8e910b2d35fc",
   "metadata": {},
   "outputs": [
    {
     "name": "stdout",
     "output_type": "stream",
     "text": [
      "Average Rating With Online Delivery : 3.25\n"
     ]
    }
   ],
   "source": [
    "Avg_rating_yes =round(df[df['Has Online delivery'] =='Yes']['Aggregate rating'].mean(),2)\n",
    "print(\"Average Rating With Online Delivery :\",Avg_rating_yes)"
   ]
  },
  {
   "cell_type": "code",
   "execution_count": 46,
   "id": "4af8f911-43da-48f5-99c7-fbc617e9a32f",
   "metadata": {},
   "outputs": [
    {
     "name": "stdout",
     "output_type": "stream",
     "text": [
      "Average Rating Without Online Delivery : 2.47\n"
     ]
    }
   ],
   "source": [
    "Avg_rating_No =round(df[df['Has Online delivery'] =='No']['Aggregate rating'].mean(),2)\n",
    "print(\"Average Rating Without Online Delivery :\",Avg_rating_No)"
   ]
  },
  {
   "cell_type": "code",
   "execution_count": 47,
   "id": "0b8d5527-3c39-4c9b-8ba9-8dc7b7de0c6c",
   "metadata": {},
   "outputs": [
    {
     "data": {
      "image/png": "[encoded data removed]",
      "text/plain": [
       "<Figure size 640x480 with 1 Axes>"
      ]
     },
     "metadata": {},
     "output_type": "display_data"
    }
   ],
   "source": [
    "import matplotlib.pyplot as plt\n",
    "\n",
    "# Example values for Avg_rating_yes and Avg_rating_No\n",
    "Avg_rating_yes = 4.2\n",
    "Avg_rating_No = 3.8\n",
    "\n",
    "labels = ['Online Delivery Available', 'No Online Delivery']\n",
    "average_rating = [Avg_rating_yes, Avg_rating_No]\n",
    "colors = ['green', 'yellow']\n",
    "\n",
    "plt.barh(labels, average_rating, color=colors)\n",
    "plt.ylabel('Online Delivery')\n",
    "plt.xlabel('Average Rating')\n",
    "plt.title('Average Ratings Based on Online Delivery Availability')\n",
    "plt.show()\n"
   ]
  },
  {
   "cell_type": "markdown",
   "id": "1c72fc50-b8d4-4f1a-9089-a2816c387350",
   "metadata": {},
   "source": [
    "# Insights:\n",
    "### Comparison of Average Ratings:\n",
    "#### - Online Delivery: Avg. rating = 4.2\n",
    "#### - No Online Delivery: Avg. rating = 3.8\n",
    "### Impact of Online Delivery:\n",
    "#### - Higher ratings for restaurants with online delivery.\n",
    "#### - Suggests benefits to offering online delivery.\n",
    "### Visual Representation:\n",
    "#### - Clear comparison with distinct colors.\n",
    "#### - Labels and title enhance data clarity.¶"
   ]
  },
  {
   "cell_type": "markdown",
   "id": "c4d44b38-2669-4efd-b390-3a5e62d62a59",
   "metadata": {},
   "source": [
    "# Level 2\n",
    "# Task 1\n",
    "### 1.Analyze the distribution of aggregateratings and determine the most commonrating range.\n",
    "### 2. Calculate the average number of votesreceived by restaurants"
   ]
  },
  {
   "cell_type": "markdown",
   "id": "32a8b527-5967-4b6a-8c7f-7673967afcde",
   "metadata": {},
   "source": [
    "###  Q1.Analyze the distribution of aggregateratings and determine the most commonrating range."
   ]
  },
  {
   "cell_type": "code",
   "execution_count": 48,
   "id": "5cf65071-6764-43a4-8822-9636c56f1567",
   "metadata": {},
   "outputs": [
    {
     "name": "stdout",
     "output_type": "stream",
     "text": [
      "Aggregate rating\n",
      "0.0    2148\n",
      "3.2     522\n",
      "3.1     519\n",
      "3.4     498\n",
      "3.3     483\n",
      "3.5     480\n",
      "3.0     468\n",
      "3.6     458\n",
      "3.7     427\n",
      "3.8     400\n",
      "2.9     381\n",
      "3.9     335\n",
      "2.8     315\n",
      "4.1     274\n",
      "4.0     266\n",
      "2.7     250\n",
      "4.2     221\n",
      "2.6     191\n",
      "4.3     174\n",
      "4.4     144\n",
      "2.5     110\n",
      "4.5      95\n",
      "2.4      87\n",
      "4.6      78\n",
      "4.9      61\n",
      "2.3      47\n",
      "4.7      42\n",
      "2.2      27\n",
      "4.8      25\n",
      "2.1      15\n",
      "2.0       7\n",
      "1.9       2\n",
      "1.8       1\n",
      "Name: count, dtype: int64\n"
     ]
    }
   ],
   "source": [
    "agg_rating_distribution =df['Aggregate rating'].value_counts()\n",
    "print(agg_rating_distribution)"
   ]
  },
  {
   "cell_type": "code",
   "execution_count": 49,
   "id": "f57df997-038f-4c8f-bbe8-c2c50433ae71",
   "metadata": {},
   "outputs": [
    {
     "name": "stdout",
     "output_type": "stream",
     "text": [
      "Most common rating range is :  0.0\n"
     ]
    }
   ],
   "source": [
    "a=agg_rating_distribution.idxmax()\n",
    "print(\"Most common rating range is : \",a)\n"
   ]
  },
  {
   "cell_type": "code",
   "execution_count": 50,
   "id": "2bf82306-3e20-4427-b618-739e7eff9965",
   "metadata": {},
   "outputs": [
    {
     "data": {
      "image/png": "[encoded data removed]",
      "text/plain": [
       "<Figure size 640x480 with 1 Axes>"
      ]
     },
     "metadata": {},
     "output_type": "display_data"
    }
   ],
   "source": [
    "plt.hist(df['Aggregate rating'],bins=30, color='skyblue',edgecolor='black')\n",
    "plt.xlabel(\"Aggregate rating\")\n",
    "plt.ylabel(\"Count\") \n",
    "plt.title(\"Distribution of aggregate rating\")\n",
    "plt.show()"
   ]
  },
  {
   "cell_type": "markdown",
   "id": "368cf732-b554-4aca-9458-4aa5cbcedca4",
   "metadata": {},
   "source": [
    "# Insights:\n",
    "### Aggregate Rating Distribution:\n",
    "####  - The histogram shows the frequency of different aggregate ratings.\n",
    "####  - Indicates the spread and commonality of rating values.\n",
    "### Visual Representation:\n",
    "#### - Bins are used to group ratings.\n",
    "#### - Skyblue bars with black edges enhance visual clarity.\n",
    "#### - Labels and title provide context.¶"
   ]
  },
  {
   "cell_type": "markdown",
   "id": "9a2a654f-01c4-44c1-970d-c7bbb5586ff9",
   "metadata": {},
   "source": [
    "## Q2. Calculate the average number of votesreceived by restaurants.\n"
   ]
  },
  {
   "cell_type": "code",
   "execution_count": 51,
   "id": "7c273c62-1879-4efc-bb78-4d40a66817d1",
   "metadata": {},
   "outputs": [
    {
     "name": "stdout",
     "output_type": "stream",
     "text": [
      "The average number of votes received by restaurants : 156.91\n"
     ]
    }
   ],
   "source": [
    "avg_vote =round(df['Votes'].mean(),3)\n",
    "print(\"The average number of votes received by restaurants :\",avg_vote)"
   ]
  },
  {
   "cell_type": "markdown",
   "id": "786579f3-3b87-4031-acad-50d4f941bc13",
   "metadata": {},
   "source": [
    "# Task 2\n",
    "### Task: Cuisine CombinationIdentify\n",
    "#### 1.Identify the most common combinations ofcuisines in the dataset.\n",
    "#### 2.Determine if certain cuisine combinationstend to have higher ratings."
   ]
  },
  {
   "cell_type": "markdown",
   "id": "8714b233-8ad4-484b-85ee-6b7b891fd84d",
   "metadata": {},
   "source": [
    "## Q1.Identify the most common combinations ofcuisines in the dataset."
   ]
  },
  {
   "cell_type": "code",
   "execution_count": 52,
   "id": "968ccc88-b39f-4a65-8efa-864ae02158e3",
   "metadata": {},
   "outputs": [
    {
     "name": "stdout",
     "output_type": "stream",
     "text": [
      "Top 10 most common combinations are: Cuisines\n",
      "Italian, Deli               4.9\n",
      "Hawaiian, Seafood           4.9\n",
      "American, Sandwich, Tea     4.9\n",
      "Continental, Indian         4.9\n",
      "European, Asian, Indian     4.9\n",
      "European, Contemporary      4.9\n",
      "European, German            4.9\n",
      "BBQ, Breakfast, Southern    4.9\n",
      "American, Coffee and Tea    4.9\n",
      "Sunda, Indonesian           4.9\n",
      "Name: Aggregate rating, dtype: float64\n"
     ]
    }
   ],
   "source": [
    "common_combinations = df.groupby('Cuisines')['Aggregate rating'].mean().sort_values(ascending=False)\n",
    "top10 = common_combinations.head(10)\n",
    "print(\"Top 10 most common combinations are:\", top10)\n"
   ]
  },
  {
   "cell_type": "code",
   "execution_count": 53,
   "id": "c26cc1db-b6fd-4259-855f-585d43d35b50",
   "metadata": {},
   "outputs": [
    {
     "name": "stdout",
     "output_type": "stream",
     "text": [
      "Top 10 most common combinations are : Cuisines\n",
      "Italian, Deli               4.9\n",
      "Hawaiian, Seafood           4.9\n",
      "American, Sandwich, Tea     4.9\n",
      "Continental, Indian         4.9\n",
      "European, Asian, Indian     4.9\n",
      "European, Contemporary      4.9\n",
      "European, German            4.9\n",
      "BBQ, Breakfast, Southern    4.9\n",
      "American, Coffee and Tea    4.9\n",
      "Sunda, Indonesian           4.9\n",
      "Name: Aggregate rating, dtype: float64\n"
     ]
    }
   ],
   "source": [
    "common_cominations =df.groupby('Cuisines')['Aggregate rating'].mean().sort_values(ascending=False)\n",
    "top10=common_cominations.head(10)\n",
    "print(\"Top 10 most common combinations are :\",top10)"
   ]
  },
  {
   "cell_type": "markdown",
   "id": "44611725-e3a9-4be9-a960-1efc69ff8321",
   "metadata": {},
   "source": [
    "## Q2. Determine if certain cuisine combinationstend to have higher ratings."
   ]
  },
  {
   "cell_type": "code",
   "execution_count": 54,
   "id": "c9faf563-2cc6-4fdd-aad6-9f5575371fa4",
   "metadata": {},
   "outputs": [
    {
     "name": "stdout",
     "output_type": "stream",
     "text": [
      "The Max Rating is : 4.9\n"
     ]
    }
   ],
   "source": [
    "max_rating = common_cominations.iloc[0]\n",
    "print(\"The Max Rating is :\",max_rating)"
   ]
  },
  {
   "cell_type": "code",
   "execution_count": 55,
   "id": "2615e0c3-ce86-4ca0-ab42-f5bf01cebf59",
   "metadata": {},
   "outputs": [
    {
     "name": "stdout",
     "output_type": "stream",
     "text": [
      "Restaurants haveing the maxium rating: 3                                           Ooma\n",
      "8       Spiral - Sofitel Philippine Plaza Manila\n",
      "10                              Silantro Fil-Mex\n",
      "39                                    Coco Bambu\n",
      "48                            Braseiro da G��vea\n",
      "                          ...                   \n",
      "9484              Restaurant Mosaic @ The Orient\n",
      "9514                            Ministry of Crab\n",
      "9524                                Gaga Manjero\n",
      "9538                                   Starbucks\n",
      "9540                            Draft Gastro Pub\n",
      "Name: Restaurant Name, Length: 61, dtype: object\n"
     ]
    }
   ],
   "source": [
    "max_rated_rest = df.loc[df['Aggregate rating'] == max_rating] \n",
    "print(\"Restaurants haveing the maxium rating:\",max_rated_rest['Restaurant Name'])"
   ]
  },
  {
   "cell_type": "markdown",
   "id": "05147715-4d6b-4596-9bde-b2b0372d11ee",
   "metadata": {},
   "source": [
    "# Task 3\n",
    "## Task: Geographic Analysis\n",
    "#### 1.Plot the locations of restaurants on amap using longitude and latitude coordinates.\n",
    "#### 2.Identify any patterns or clusters ofrestaurants in specific areas."
   ]
  },
  {
   "cell_type": "markdown",
   "id": "bdd5e5ee-6717-44f9-aec2-506362f87448",
   "metadata": {},
   "source": [
    "## Q1.Plot the locations of restaurants on amap using longitude and latitude coordinates."
   ]
  },
  {
   "cell_type": "code",
   "execution_count": 56,
   "id": "3ae31448-1cbf-46b8-b0f4-13c28ec547d6",
   "metadata": {},
   "outputs": [
    {
     "name": "stdout",
     "output_type": "stream",
     "text": [
      "       Longitude   Latitude\n",
      "0     121.027535  14.565443\n",
      "1     121.014101  14.553708\n",
      "2     121.056831  14.581404\n",
      "3     121.056475  14.585318\n",
      "4     121.057508  14.584450\n",
      "...          ...        ...\n",
      "9546   28.977392  41.022793\n",
      "9547   29.041297  41.009847\n",
      "9548   29.034640  41.055817\n",
      "9549   29.036019  41.057979\n",
      "9550   29.026016  40.984776\n",
      "\n",
      "[9551 rows x 2 columns]\n"
     ]
    }
   ],
   "source": [
    "print(df[[\"Longitude\",\"Latitude\"]])"
   ]
  },
  {
   "cell_type": "code",
   "execution_count": 57,
   "id": "d5a912d3-7d9c-4b82-be38-4c995d08285f",
   "metadata": {},
   "outputs": [
    {
     "name": "stdout",
     "output_type": "stream",
     "text": [
      "Requirement already satisfied: geopandas in c:\\users\\revat\\anaconda3\\lib\\site-packages (1.0.1)\n",
      "Requirement already satisfied: numpy>=1.22 in c:\\users\\revat\\anaconda3\\lib\\site-packages (from geopandas) (1.26.4)\n",
      "Requirement already satisfied: pyogrio>=0.7.2 in c:\\users\\revat\\anaconda3\\lib\\site-packages (from geopandas) (0.9.0)\n",
      "Requirement already satisfied: packaging in c:\\users\\revat\\anaconda3\\lib\\site-packages (from geopandas) (23.1)\n",
      "Requirement already satisfied: pandas>=1.4.0 in c:\\users\\revat\\anaconda3\\lib\\site-packages (from geopandas) (2.1.4)\n",
      "Requirement already satisfied: pyproj>=3.3.0 in c:\\users\\revat\\anaconda3\\lib\\site-packages (from geopandas) (3.6.1)\n",
      "Requirement already satisfied: shapely>=2.0.0 in c:\\users\\revat\\anaconda3\\lib\\site-packages (from geopandas) (2.0.5)\n",
      "Requirement already satisfied: python-dateutil>=2.8.2 in c:\\users\\revat\\anaconda3\\lib\\site-packages (from pandas>=1.4.0->geopandas) (2.8.2)\n",
      "Requirement already satisfied: pytz>=2020.1 in c:\\users\\revat\\anaconda3\\lib\\site-packages (from pandas>=1.4.0->geopandas) (2023.3.post1)\n",
      "Requirement already satisfied: tzdata>=2022.1 in c:\\users\\revat\\anaconda3\\lib\\site-packages (from pandas>=1.4.0->geopandas) (2023.3)\n",
      "Requirement already satisfied: certifi in c:\\users\\revat\\anaconda3\\lib\\site-packages (from pyogrio>=0.7.2->geopandas) (2024.2.2)\n",
      "Requirement already satisfied: six>=1.5 in c:\\users\\revat\\anaconda3\\lib\\site-packages (from python-dateutil>=2.8.2->pandas>=1.4.0->geopandas) (1.16.0)\n",
      "Note: you may need to restart the kernel to use updated packages.\n"
     ]
    }
   ],
   "source": [
    "pip install geopandas"
   ]
  },
  {
   "cell_type": "code",
   "execution_count": 58,
   "id": "7607e5a8-9010-4f3a-97fa-58e31052313a",
   "metadata": {},
   "outputs": [
    {
     "name": "stderr",
     "output_type": "stream",
     "text": [
      "C:\\Users\\revat\\anaconda3\\Lib\\site-packages\\paramiko\\transport.py:219: CryptographyDeprecationWarning: Blowfish has been deprecated and will be removed in a future release\n",
      "  \"class\": algorithms.Blowfish,\n"
     ]
    }
   ],
   "source": [
    "import geopandas\n",
    "from geodatasets import get_path\n",
    "import folium as fo\n",
    "from folium.plugins import HeatMap\n"
   ]
  },
  {
   "cell_type": "code",
   "execution_count": 59,
   "id": "2528da08-780b-436b-8749-316926a1e650",
   "metadata": {},
   "outputs": [
    {
     "name": "stdout",
     "output_type": "stream",
     "text": [
      "Requirement already satisfied: geopandas in c:\\users\\revat\\anaconda3\\lib\\site-packages (1.0.1)\n",
      "Requirement already satisfied: geodatasets in c:\\users\\revat\\anaconda3\\lib\\site-packages (2024.7.0)\n",
      "Requirement already satisfied: folium in c:\\users\\revat\\anaconda3\\lib\\site-packages (0.17.0)\n",
      "Requirement already satisfied: numpy>=1.22 in c:\\users\\revat\\anaconda3\\lib\\site-packages (from geopandas) (1.26.4)\n",
      "Requirement already satisfied: pyogrio>=0.7.2 in c:\\users\\revat\\anaconda3\\lib\\site-packages (from geopandas) (0.9.0)\n",
      "Requirement already satisfied: packaging in c:\\users\\revat\\anaconda3\\lib\\site-packages (from geopandas) (23.1)\n",
      "Requirement already satisfied: pandas>=1.4.0 in c:\\users\\revat\\anaconda3\\lib\\site-packages (from geopandas) (2.1.4)\n",
      "Requirement already satisfied: pyproj>=3.3.0 in c:\\users\\revat\\anaconda3\\lib\\site-packages (from geopandas) (3.6.1)\n",
      "Requirement already satisfied: shapely>=2.0.0 in c:\\users\\revat\\anaconda3\\lib\\site-packages (from geopandas) (2.0.5)\n",
      "Requirement already satisfied: pooch in c:\\users\\revat\\anaconda3\\lib\\site-packages (from geodatasets) (1.8.2)\n",
      "Requirement already satisfied: branca>=0.6.0 in c:\\users\\revat\\anaconda3\\lib\\site-packages (from folium) (0.7.2)\n",
      "Requirement already satisfied: jinja2>=2.9 in c:\\users\\revat\\anaconda3\\lib\\site-packages (from folium) (3.1.3)\n",
      "Requirement already satisfied: requests in c:\\users\\revat\\anaconda3\\lib\\site-packages (from folium) (2.31.0)\n",
      "Requirement already satisfied: xyzservices in c:\\users\\revat\\anaconda3\\lib\\site-packages (from folium) (2022.9.0)\n",
      "Requirement already satisfied: MarkupSafe>=2.0 in c:\\users\\revat\\anaconda3\\lib\\site-packages (from jinja2>=2.9->folium) (2.1.3)\n",
      "Requirement already satisfied: python-dateutil>=2.8.2 in c:\\users\\revat\\anaconda3\\lib\\site-packages (from pandas>=1.4.0->geopandas) (2.8.2)\n",
      "Requirement already satisfied: pytz>=2020.1 in c:\\users\\revat\\anaconda3\\lib\\site-packages (from pandas>=1.4.0->geopandas) (2023.3.post1)\n",
      "Requirement already satisfied: tzdata>=2022.1 in c:\\users\\revat\\anaconda3\\lib\\site-packages (from pandas>=1.4.0->geopandas) (2023.3)\n",
      "Requirement already satisfied: certifi in c:\\users\\revat\\anaconda3\\lib\\site-packages (from pyogrio>=0.7.2->geopandas) (2024.2.2)\n",
      "Requirement already satisfied: platformdirs>=2.5.0 in c:\\users\\revat\\anaconda3\\lib\\site-packages (from pooch->geodatasets) (3.10.0)\n",
      "Requirement already satisfied: charset-normalizer<4,>=2 in c:\\users\\revat\\anaconda3\\lib\\site-packages (from requests->folium) (2.0.4)\n",
      "Requirement already satisfied: idna<4,>=2.5 in c:\\users\\revat\\anaconda3\\lib\\site-packages (from requests->folium) (3.4)\n",
      "Requirement already satisfied: urllib3<3,>=1.21.1 in c:\\users\\revat\\anaconda3\\lib\\site-packages (from requests->folium) (2.0.7)\n",
      "Requirement already satisfied: six>=1.5 in c:\\users\\revat\\anaconda3\\lib\\site-packages (from python-dateutil>=2.8.2->pandas>=1.4.0->geopandas) (1.16.0)\n",
      "Note: you may need to restart the kernel to use updated packages.\n"
     ]
    }
   ],
   "source": [
    "pip install geopandas geodatasets folium\n"
   ]
  },
  {
   "cell_type": "code",
   "execution_count": 60,
   "id": "6606445e-7c07-4980-8605-9807e0642af8",
   "metadata": {},
   "outputs": [],
   "source": [
    "import geopandas as gpd\n",
    "\n",
    "# Assuming df is your DataFrame with 'Longitude' and 'Latitude' columns\n",
    "gdf = gpd.GeoDataFrame(\n",
    "    df, geometry=gpd.points_from_xy(df.Longitude, df.Latitude), crs=\"EPSG:4326\"\n",
    ")\n"
   ]
  },
  {
   "cell_type": "code",
   "execution_count": 61,
   "id": "a1f5e90a-b687-4e3d-8fc8-636453b17637",
   "metadata": {},
   "outputs": [
    {
     "name": "stdout",
     "output_type": "stream",
     "text": [
      "   Restaurant ID         Restaurant Name  Country Code              City  \\\n",
      "0        6317637        Le Petit Souffle           162       Makati City   \n",
      "1        6304287        Izakaya Kikufuji           162       Makati City   \n",
      "2        6300002  Heat - Edsa Shangri-La           162  Mandaluyong City   \n",
      "3        6318506                    Ooma           162  Mandaluyong City   \n",
      "4        6314302             Sambo Kojin           162  Mandaluyong City   \n",
      "\n",
      "                                             Address  \\\n",
      "0  Third Floor, Century City Mall, Kalayaan Avenu...   \n",
      "1  Little Tokyo, 2277 Chino Roces Avenue, Legaspi...   \n",
      "2  Edsa Shangri-La, 1 Garden Way, Ortigas, Mandal...   \n",
      "3  Third Floor, Mega Fashion Hall, SM Megamall, O...   \n",
      "4  Third Floor, Mega Atrium, SM Megamall, Ortigas...   \n",
      "\n",
      "                                     Locality  \\\n",
      "0   Century City Mall, Poblacion, Makati City   \n",
      "1  Little Tokyo, Legaspi Village, Makati City   \n",
      "2  Edsa Shangri-La, Ortigas, Mandaluyong City   \n",
      "3      SM Megamall, Ortigas, Mandaluyong City   \n",
      "4      SM Megamall, Ortigas, Mandaluyong City   \n",
      "\n",
      "                                    Locality Verbose   Longitude   Latitude  \\\n",
      "0  Century City Mall, Poblacion, Makati City, Mak...  121.027535  14.565443   \n",
      "1  Little Tokyo, Legaspi Village, Makati City, Ma...  121.014101  14.553708   \n",
      "2  Edsa Shangri-La, Ortigas, Mandaluyong City, Ma...  121.056831  14.581404   \n",
      "3  SM Megamall, Ortigas, Mandaluyong City, Mandal...  121.056475  14.585318   \n",
      "4  SM Megamall, Ortigas, Mandaluyong City, Mandal...  121.057508  14.584450   \n",
      "\n",
      "                           Cuisines  ...  Has Table booking  \\\n",
      "0        French, Japanese, Desserts  ...                Yes   \n",
      "1                          Japanese  ...                Yes   \n",
      "2  Seafood, Asian, Filipino, Indian  ...                Yes   \n",
      "3                   Japanese, Sushi  ...                 No   \n",
      "4                  Japanese, Korean  ...                Yes   \n",
      "\n",
      "  Has Online delivery Is delivering now Switch to order menu Price range  \\\n",
      "0                  No                No                   No           3   \n",
      "1                  No                No                   No           3   \n",
      "2                  No                No                   No           4   \n",
      "3                  No                No                   No           4   \n",
      "4                  No                No                   No           4   \n",
      "\n",
      "  Aggregate rating  Rating color  Rating text Votes  \\\n",
      "0              4.8    Dark Green    Excellent   314   \n",
      "1              4.5    Dark Green    Excellent   591   \n",
      "2              4.4         Green    Very Good   270   \n",
      "3              4.9    Dark Green    Excellent   365   \n",
      "4              4.8    Dark Green    Excellent   229   \n",
      "\n",
      "                     geometry  \n",
      "0  POINT (121.02754 14.56544)  \n",
      "1   POINT (121.0141 14.55371)  \n",
      "2   POINT (121.05683 14.5814)  \n",
      "3  POINT (121.05648 14.58532)  \n",
      "4  POINT (121.05751 14.58445)  \n",
      "\n",
      "[5 rows x 22 columns]\n"
     ]
    }
   ],
   "source": [
    "print(gdf.head())"
   ]
  },
  {
   "cell_type": "code",
   "execution_count": 62,
   "id": "eb9f803c-5e22-4bd2-8746-a74a544f430d",
   "metadata": {},
   "outputs": [
    {
     "data": {
      "image/png": "[encoded data removed]",
      "text/plain": [
       "<Figure size 640x480 with 1 Axes>"
      ]
     },
     "metadata": {},
     "output_type": "display_data"
    }
   ],
   "source": [
    "import geopandas as gpd\n",
    "from geodatasets import get_path\n",
    "\n",
    "# Load world data\n",
    "world = gpd.read_file(get_path(\"naturalearth.land\"))\n",
    "\n",
    "# Plot the world map\n",
    "ax = world.plot(color='white', edgecolor='black')\n",
    "\n",
    "# Plot the GeoDataFrame on top of the world map\n",
    "gdf.plot(ax=ax, marker='o', color='red', markersize=5)\n",
    "plt.show()"
   ]
  },
  {
   "cell_type": "markdown",
   "id": "6b09fa8c-b6de-4634-b866-b720b2d1a3ea",
   "metadata": {},
   "source": [
    "# insights\n",
    "\n",
    "#### - **Data Representation**: Converts raw data into an easy-to-understand visual format.\n",
    "#### - **Customization**: Enhances visual appeal using the `color` parameter.\n",
    "#### - **Simplicity and Clarity**: Straightforward code demonstrating basic Matplotlib functionality.\n",
    "#### - **Modularity**: Example data can be easily replaced with actual data for reuse.\n",
    "#### - **Importance of Labels**: Labels and title make the plot informative and self-explanatory.\n",
    "#### - **Foundation**: Provides a basic template for creating bar charts with further customization potential."
   ]
  },
  {
   "cell_type": "markdown",
   "id": "8d6209af-cc97-4e00-a10e-cbb6fef29002",
   "metadata": {},
   "source": [
    "## Q2.Identify any patterns or clusters ofrestaurants in specific areas."
   ]
  },
  {
   "cell_type": "code",
   "execution_count": 63,
   "id": "4cbda788-824b-4778-a0a9-7fd3c4eadf94",
   "metadata": {},
   "outputs": [
    {
     "name": "stdout",
     "output_type": "stream",
     "text": [
      "Requirement already satisfied: folium in c:\\users\\revat\\anaconda3\\lib\\site-packages (0.17.0)\n",
      "Requirement already satisfied: branca>=0.6.0 in c:\\users\\revat\\anaconda3\\lib\\site-packages (from folium) (0.7.2)\n",
      "Requirement already satisfied: jinja2>=2.9 in c:\\users\\revat\\anaconda3\\lib\\site-packages (from folium) (3.1.3)\n",
      "Requirement already satisfied: numpy in c:\\users\\revat\\anaconda3\\lib\\site-packages (from folium) (1.26.4)\n",
      "Requirement already satisfied: requests in c:\\users\\revat\\anaconda3\\lib\\site-packages (from folium) (2.31.0)\n",
      "Requirement already satisfied: xyzservices in c:\\users\\revat\\anaconda3\\lib\\site-packages (from folium) (2022.9.0)\n",
      "Requirement already satisfied: MarkupSafe>=2.0 in c:\\users\\revat\\anaconda3\\lib\\site-packages (from jinja2>=2.9->folium) (2.1.3)\n",
      "Requirement already satisfied: charset-normalizer<4,>=2 in c:\\users\\revat\\anaconda3\\lib\\site-packages (from requests->folium) (2.0.4)\n",
      "Requirement already satisfied: idna<4,>=2.5 in c:\\users\\revat\\anaconda3\\lib\\site-packages (from requests->folium) (3.4)\n",
      "Requirement already satisfied: urllib3<3,>=1.21.1 in c:\\users\\revat\\anaconda3\\lib\\site-packages (from requests->folium) (2.0.7)\n",
      "Requirement already satisfied: certifi>=2017.4.17 in c:\\users\\revat\\anaconda3\\lib\\site-packages (from requests->folium) (2024.2.2)\n",
      "Note: you may need to restart the kernel to use updated packages.\n"
     ]
    }
   ],
   "source": [
    "pip install folium\n"
   ]
  },
  {
   "cell_type": "code",
   "execution_count": 64,
   "id": "a2959d59-2000-4bed-bb34-3a1817b2d0cb",
   "metadata": {},
   "outputs": [
    {
     "data": {
      "text/html": [
       "<div style=\"width:100%;\"><div style=\"position:relative;width:100%;height:0;padding-bottom:60%;\"><span style=\"color:#565656\">Make this Notebook Trusted to load map: File -> Trust Notebook</span><iframe srcdoc=\"&lt;!DOCTYPE html&gt;\n",
       "&lt;html&gt;\n",
       "&lt;head&gt;\n",
       "    \n",
       "    &lt;meta http-equiv=&quot;content-type&quot; content=&quot;text/html; charset=UTF-8&quot; /&gt;\n",
       "    \n",
       "        &lt;script&gt;\n",
       "            L_NO_TOUCH = false;\n",
       "            L_DISABLE_3D = false;\n",
       "        &lt;/script&gt;\n",
       "    \n",
       "    &lt;style&gt;html, body {width: 100%;height: 100%;margin: 0;padding: 0;}&lt;/style&gt;\n",
       "    &lt;style&gt;#map {position:absolute;top:0;bottom:0;right:0;left:0;}&lt;/style&gt;\n",
       "    &lt;script src=&quot;https://cdn.jsdelivr.net/npm/leaflet@1.9.3/dist/leaflet.js&quot;&gt;&lt;/script&gt;\n",
       "    &lt;script src=&quot;https://code.jquery.com/jquery-3.7.1.min.js&quot;&gt;&lt;/script&gt;\n",
       "    &lt;script src=&quot;https://cdn.jsdelivr.net/npm/bootstrap@5.2.2/dist/js/bootstrap.bundle.min.js&quot;&gt;&lt;/script&gt;\n",
       "    &lt;script src=&quot;https://cdnjs.cloudflare.com/ajax/libs/Leaflet.awesome-markers/2.0.2/leaflet.awesome-markers.js&quot;&gt;&lt;/script&gt;\n",
       "    &lt;link rel=&quot;stylesheet&quot; href=&quot;https://cdn.jsdelivr.net/npm/leaflet@1.9.3/dist/leaflet.css&quot;/&gt;\n",
       "    &lt;link rel=&quot;stylesheet&quot; href=&quot;https://cdn.jsdelivr.net/npm/bootstrap@5.2.2/dist/css/bootstrap.min.css&quot;/&gt;\n",
       "    &lt;link rel=&quot;stylesheet&quot; href=&quot;https://netdna.bootstrapcdn.com/bootstrap/3.0.0/css/bootstrap-glyphicons.css&quot;/&gt;\n",
       "    &lt;link rel=&quot;stylesheet&quot; href=&quot;https://cdn.jsdelivr.net/npm/@fortawesome/fontawesome-free@6.2.0/css/all.min.css&quot;/&gt;\n",
       "    &lt;link rel=&quot;stylesheet&quot; href=&quot;https://cdnjs.cloudflare.com/ajax/libs/Leaflet.awesome-markers/2.0.2/leaflet.awesome-markers.css&quot;/&gt;\n",
       "    &lt;link rel=&quot;stylesheet&quot; href=&quot;https://cdn.jsdelivr.net/gh/python-visualization/folium/folium/templates/leaflet.awesome.rotate.min.css&quot;/&gt;\n",
       "    \n",
       "            &lt;meta name=&quot;viewport&quot; content=&quot;width=device-width,\n",
       "                initial-scale=1.0, maximum-scale=1.0, user-scalable=no&quot; /&gt;\n",
       "            &lt;style&gt;\n",
       "                #map_b8298af698f724b3d654dafe4a65ea6c {\n",
       "                    position: relative;\n",
       "                    width: 100.0%;\n",
       "                    height: 100.0%;\n",
       "                    left: 0.0%;\n",
       "                    top: 0.0%;\n",
       "                }\n",
       "                .leaflet-container { font-size: 1rem; }\n",
       "            &lt;/style&gt;\n",
       "        \n",
       "&lt;/head&gt;\n",
       "&lt;body&gt;\n",
       "    \n",
       "    \n",
       "            &lt;div class=&quot;folium-map&quot; id=&quot;map_b8298af698f724b3d654dafe4a65ea6c&quot; &gt;&lt;/div&gt;\n",
       "        \n",
       "&lt;/body&gt;\n",
       "&lt;script&gt;\n",
       "    \n",
       "    \n",
       "            var map_b8298af698f724b3d654dafe4a65ea6c = L.map(\n",
       "                &quot;map_b8298af698f724b3d654dafe4a65ea6c&quot;,\n",
       "                {\n",
       "                    center: [43.02903333333333, 50.68543333333333],\n",
       "                    crs: L.CRS.EPSG3857,\n",
       "                    zoom: 1,\n",
       "                    zoomControl: true,\n",
       "                    preferCanvas: false,\n",
       "                }\n",
       "            );\n",
       "\n",
       "            \n",
       "\n",
       "        \n",
       "    \n",
       "            var tile_layer_427460937766a7f856be33b91453d405 = L.tileLayer(\n",
       "                &quot;https://tile.openstreetmap.org/{z}/{x}/{y}.png&quot;,\n",
       "                {&quot;attribution&quot;: &quot;\\u0026copy; \\u003ca href=\\&quot;https://www.openstreetmap.org/copyright\\&quot;\\u003eOpenStreetMap\\u003c/a\\u003e contributors&quot;, &quot;detectRetina&quot;: false, &quot;maxNativeZoom&quot;: 19, &quot;maxZoom&quot;: 19, &quot;minZoom&quot;: 0, &quot;noWrap&quot;: false, &quot;opacity&quot;: 1, &quot;subdomains&quot;: &quot;abc&quot;, &quot;tms&quot;: false}\n",
       "            );\n",
       "        \n",
       "    \n",
       "            tile_layer_427460937766a7f856be33b91453d405.addTo(map_b8298af698f724b3d654dafe4a65ea6c);\n",
       "        \n",
       "&lt;/script&gt;\n",
       "&lt;/html&gt;\" style=\"position:absolute;width:100%;height:100%;left:0;top:0;border:none !important;\" allowfullscreen webkitallowfullscreen mozallowfullscreen></iframe></div></div>"
      ],
      "text/plain": [
       "<folium.folium.Map at 0x2bfb2a13b50>"
      ]
     },
     "execution_count": 64,
     "metadata": {},
     "output_type": "execute_result"
    }
   ],
   "source": [
    "import pandas as pd\n",
    "import folium\n",
    "\n",
    "# Example DataFrame\n",
    "data = {\n",
    "    'Name': ['Location1', 'Location2', 'Location3'],\n",
    "    'Longitude': [12.4924, -0.1278, 139.6917],\n",
    "    'Latitude': [41.8902, 51.5074, 35.6895]\n",
    "}\n",
    "df = pd.DataFrame(data)\n",
    "\n",
    "# Create a Folium map centered around the mean latitude and longitude of the DataFrame\n",
    "world_map = folium.Map(\n",
    "    location=[df['Latitude'].mean(), df['Longitude'].mean()],\n",
    "    zoom_start=1,\n",
    "    height='100%',\n",
    "    width='100%'\n",
    ")\n",
    "\n",
    "# Display the map\n",
    "world_map\n"
   ]
  },
  {
   "cell_type": "markdown",
   "id": "24dfabcb-2803-4de6-a9a1-984878c1e703",
   "metadata": {},
   "source": [
    "# Task 4\n",
    "# Task: Restaurant Chains\n",
    "###  Q1. Identify if there are any restaurant chains present in the dataset.\n",
    "###  Q2. Analyze the ratings and popularity of different restaurant chains"
   ]
  },
  {
   "cell_type": "markdown",
   "id": "32e14e14-944e-40e8-b785-0bb394c41594",
   "metadata": {},
   "source": [
    "###   Q1. Identify if there are any restaurant chains present in the dataset."
   ]
  },
  {
   "cell_type": "code",
   "execution_count": 9,
   "id": "f06fe842-d61d-4ca7-8d10-f7267f93f7b8",
   "metadata": {},
   "outputs": [],
   "source": [
    "restaurant_chain = df.groupby(\"Restaurant Name\").size().reset_index(name=\"OutletCount\")\n",
    "new = restaurant_chain[restaurant_chain[\"OutletCount\"] >1]\n",
    "restaurant_chains = new.sort_values(by=\"OutletCount\",ascending=False)"
   ]
  },
  {
   "cell_type": "code",
   "execution_count": 3,
   "id": "95cf5e01-b4e5-4f26-a7e6-dc3cd6f09962",
   "metadata": {},
   "outputs": [
    {
     "name": "stdout",
     "output_type": "stream",
     "text": [
      "      Restaurant ID           Restaurant Name  Country Code              City  \\\n",
      "0           6317637          Le Petit Souffle           162       Makati City   \n",
      "1           6304287          Izakaya Kikufuji           162       Makati City   \n",
      "2           6300002    Heat - Edsa Shangri-La           162  Mandaluyong City   \n",
      "3           6318506                      Ooma           162  Mandaluyong City   \n",
      "4           6314302               Sambo Kojin           162  Mandaluyong City   \n",
      "...             ...                       ...           ...               ...   \n",
      "9546        5915730               Naml۱ Gurme           208         ��stanbul   \n",
      "9547        5908749              Ceviz A��ac۱           208         ��stanbul   \n",
      "9548        5915807                     Huqqa           208         ��stanbul   \n",
      "9549        5916112               A���k Kahve           208         ��stanbul   \n",
      "9550        5927402  Walter's Coffee Roastery           208         ��stanbul   \n",
      "\n",
      "                                                Address  \\\n",
      "0     Third Floor, Century City Mall, Kalayaan Avenu...   \n",
      "1     Little Tokyo, 2277 Chino Roces Avenue, Legaspi...   \n",
      "2     Edsa Shangri-La, 1 Garden Way, Ortigas, Mandal...   \n",
      "3     Third Floor, Mega Fashion Hall, SM Megamall, O...   \n",
      "4     Third Floor, Mega Atrium, SM Megamall, Ortigas...   \n",
      "...                                                 ...   \n",
      "9546  Kemanke�� Karamustafa Pa��a Mahallesi, R۱ht۱m ...   \n",
      "9547  Ko��uyolu Mahallesi, Muhittin ��st�_nda�� Cadd...   \n",
      "9548  Kuru�_e��me Mahallesi, Muallim Naci Caddesi, N...   \n",
      "9549  Kuru�_e��me Mahallesi, Muallim Naci Caddesi, N...   \n",
      "9550  Cafea��a Mahallesi, Bademalt۱ Sokak, No 21/B, ...   \n",
      "\n",
      "                                        Locality  \\\n",
      "0      Century City Mall, Poblacion, Makati City   \n",
      "1     Little Tokyo, Legaspi Village, Makati City   \n",
      "2     Edsa Shangri-La, Ortigas, Mandaluyong City   \n",
      "3         SM Megamall, Ortigas, Mandaluyong City   \n",
      "4         SM Megamall, Ortigas, Mandaluyong City   \n",
      "...                                          ...   \n",
      "9546                                    Karak�_y   \n",
      "9547                                   Ko��uyolu   \n",
      "9548                                 Kuru�_e��me   \n",
      "9549                                 Kuru�_e��me   \n",
      "9550                                        Moda   \n",
      "\n",
      "                                       Locality Verbose   Longitude  \\\n",
      "0     Century City Mall, Poblacion, Makati City, Mak...  121.027535   \n",
      "1     Little Tokyo, Legaspi Village, Makati City, Ma...  121.014101   \n",
      "2     Edsa Shangri-La, Ortigas, Mandaluyong City, Ma...  121.056831   \n",
      "3     SM Megamall, Ortigas, Mandaluyong City, Mandal...  121.056475   \n",
      "4     SM Megamall, Ortigas, Mandaluyong City, Mandal...  121.057508   \n",
      "...                                                 ...         ...   \n",
      "9546                                Karak�_y, ��stanbul   28.977392   \n",
      "9547                               Ko��uyolu, ��stanbul   29.041297   \n",
      "9548                             Kuru�_e��me, ��stanbul   29.034640   \n",
      "9549                             Kuru�_e��me, ��stanbul   29.036019   \n",
      "9550                                    Moda, ��stanbul   29.026016   \n",
      "\n",
      "       Latitude                          Cuisines  ...          Currency  \\\n",
      "0     14.565443        French, Japanese, Desserts  ...  Botswana Pula(P)   \n",
      "1     14.553708                          Japanese  ...  Botswana Pula(P)   \n",
      "2     14.581404  Seafood, Asian, Filipino, Indian  ...  Botswana Pula(P)   \n",
      "3     14.585318                   Japanese, Sushi  ...  Botswana Pula(P)   \n",
      "4     14.584450                  Japanese, Korean  ...  Botswana Pula(P)   \n",
      "...         ...                               ...  ...               ...   \n",
      "9546  41.022793                           Turkish  ...  Turkish Lira(TL)   \n",
      "9547  41.009847   World Cuisine, Patisserie, Cafe  ...  Turkish Lira(TL)   \n",
      "9548  41.055817            Italian, World Cuisine  ...  Turkish Lira(TL)   \n",
      "9549  41.057979                   Restaurant Cafe  ...  Turkish Lira(TL)   \n",
      "9550  40.984776                              Cafe  ...  Turkish Lira(TL)   \n",
      "\n",
      "     Has Table booking Has Online delivery Is delivering now  \\\n",
      "0                  Yes                  No                No   \n",
      "1                  Yes                  No                No   \n",
      "2                  Yes                  No                No   \n",
      "3                   No                  No                No   \n",
      "4                  Yes                  No                No   \n",
      "...                ...                 ...               ...   \n",
      "9546                No                  No                No   \n",
      "9547                No                  No                No   \n",
      "9548                No                  No                No   \n",
      "9549                No                  No                No   \n",
      "9550                No                  No                No   \n",
      "\n",
      "     Switch to order menu Price range  Aggregate rating  Rating color  \\\n",
      "0                      No           3               4.8    Dark Green   \n",
      "1                      No           3               4.5    Dark Green   \n",
      "2                      No           4               4.4         Green   \n",
      "3                      No           4               4.9    Dark Green   \n",
      "4                      No           4               4.8    Dark Green   \n",
      "...                   ...         ...               ...           ...   \n",
      "9546                   No           3               4.1         Green   \n",
      "9547                   No           3               4.2         Green   \n",
      "9548                   No           4               3.7        Yellow   \n",
      "9549                   No           4               4.0         Green   \n",
      "9550                   No           2               4.0         Green   \n",
      "\n",
      "     Rating text Votes  \n",
      "0      Excellent   314  \n",
      "1      Excellent   591  \n",
      "2      Very Good   270  \n",
      "3      Excellent   365  \n",
      "4      Excellent   229  \n",
      "...          ...   ...  \n",
      "9546   Very Good   788  \n",
      "9547   Very Good  1034  \n",
      "9548        Good   661  \n",
      "9549   Very Good   901  \n",
      "9550   Very Good   591  \n",
      "\n",
      "[9551 rows x 21 columns]\n"
     ]
    }
   ],
   "source": [
    "print(df)"
   ]
  },
  {
   "cell_type": "code",
   "execution_count": 10,
   "id": "a91e4397-f509-4440-b560-b89df6359384",
   "metadata": {},
   "outputs": [
    {
     "name": "stdout",
     "output_type": "stream",
     "text": [
      "       Restaurant Name  OutletCount\n",
      "1098   Cafe Coffee Day           83\n",
      "2098    Domino's Pizza           79\n",
      "6106            Subway           63\n",
      "2716  Green Chick Chop           51\n",
      "4077        McDonald's           48\n",
      "3478         Keventers           34\n",
      "4961         Pizza Hut           30\n",
      "2619             Giani           29\n",
      "680     Baskin Robbins           28\n",
      "663    Barbeque Nation           26\n"
     ]
    }
   ],
   "source": [
    "print(restaurant_chains[[\"Restaurant Name\",\"OutletCount\"]].head(10))"
   ]
  },
  {
   "cell_type": "code",
   "execution_count": 11,
   "id": "fec57113-833a-4624-9461-175c57a9603f",
   "metadata": {},
   "outputs": [
    {
     "data": {
      "image/png": "[encoded data removed]",
      "text/plain": [
       "<Figure size 640x480 with 1 Axes>"
      ]
     },
     "metadata": {},
     "output_type": "display_data"
    }
   ],
   "source": [
    " plt.bar(restaurant_chains[\"Restaurant Name\"][:5],restaurant_chains[\"OutletCount\"][:5])\n",
    " plt.xlabel(\"Restaurant Chain\")\n",
    " plt.ylabel(\"Number of Outlets\")\n",
    " plt.title(\"Top 5 Restaurant Chains by Number of Outlets\")\n",
    " plt.show()"
   ]
  },
  {
   "cell_type": "markdown",
   "id": "785a9074-2636-459d-a1f3-30e3306cafb5",
   "metadata": {},
   "source": [
    "# insights\n",
    "####  Top Chains Visualization: Plots the top 5 restaurant chains by the number of outlets.\n",
    "####  Data Slicing: Uses the first 5 entries in restaurant_chains for plotting.\n",
    "####  Bar Chart: Utilizes a bar chart to represent the data.\n",
    "####  X-axis Label: Labels the x-axis as \"Restaurant Chain\".\n",
    "####  Y-axis Label: Labels the y-axis as \"Number of Outlets\".\n",
    "####  Title: Sets the chart title to \"Top 5 Restaurant Chains by Number of Outlets\".\n",
    "####  Display: Calls plt.show() to render the plot."
   ]
  },
  {
   "cell_type": "markdown",
   "id": "075820eb-66ef-4283-94b6-4d0603cf181c",
   "metadata": {},
   "source": [
    "##  Q2. Analyze the ratings and popularity of different restaurant chains"
   ]
  },
  {
   "cell_type": "code",
   "execution_count": 13,
   "id": "6a69449f-e69a-4e0f-857c-185c133269b8",
   "metadata": {},
   "outputs": [
    {
     "name": "stdout",
     "output_type": "stream",
     "text": [
      "                      Restaurant Name  Average Rating\n",
      "5322   Restaurant Mosaic @ The Orient             4.9\n",
      "4177                 Ministry of Crab             4.9\n",
      "4135                            Miann             4.9\n",
      "5757          Shorts Burger and Shine             4.9\n",
      "4165                            Milse             4.9\n",
      "...                               ...             ...\n",
      "1105                      Cafe Corner             0.0\n",
      "4905                  Pheva Tandooris             0.0\n",
      "4913                     Pick & Carry             0.0\n",
      "1096                     Cafe Brownie             0.0\n",
      "2292  Famous Parantha and Poori Sabzi             0.0\n",
      "\n",
      "[7446 rows x 2 columns]\n"
     ]
    }
   ],
   "source": [
    "ratings = df.groupby(\"Restaurant Name\")[\"Aggregate rating\"].mean().reset_index(name=\"Average Rating\").sort_values(by=\"Average Rating\",ascending=False)\n",
    "print(ratings)"
   ]
  },
  {
   "cell_type": "code",
   "execution_count": 16,
   "id": "454095be-604c-4c61-80c0-2dc2e6b948cd",
   "metadata": {},
   "outputs": [
    {
     "name": "stdout",
     "output_type": "stream",
     "text": [
      "                Restaurant Name  Total Votes\n",
      "663             Barbeque Nation        28142\n",
      "101   AB's - Absolute Barbecues        13400\n",
      "6943                       Toit        10934\n",
      "785                   Big Chill        10853\n",
      "2297                 Farzi Cafe        10098\n",
      "...                         ...          ...\n",
      "4375                  Muncheezz            0\n",
      "6217            Swiss Gourmessa            0\n",
      "2110      Dosa and Pizza Corner            0\n",
      "6215            Sweets n Treats            0\n",
      "2433               Food Station            0\n",
      "\n",
      "[7446 rows x 2 columns]\n"
     ]
    }
   ],
   "source": [
    "votes =df.groupby(\"Restaurant Name\")[\"Votes\"].sum().reset_index(name =\"Total Votes\").sort_values(by=\"Total Votes\",ascending=False)\n",
    "print(votes)"
   ]
  },
  {
   "cell_type": "code",
   "execution_count": 18,
   "id": "df676761-5f82-4061-aa4f-d2df4e33b50f",
   "metadata": {},
   "outputs": [
    {
     "data": {
      "image/png": "[encoded data removed]",
      "text/plain": [
       "<Figure size 640x480 with 1 Axes>"
      ]
     },
     "metadata": {},
     "output_type": "display_data"
    }
   ],
   "source": [
    "plt.bar(ratings[\"Restaurant Name\"][:5],ratings[\"Average Rating\"][:5])\n",
    "plt.xlabel(\"Restaurant Chain\")\n",
    "plt.ylabel(\"Average Rating\")\n",
    "plt.title(\"Top 5 Restaurant Chains by Average Rating\")\n",
    "plt.show()\n"
   ]
  },
  {
   "cell_type": "markdown",
   "id": "934ac75e-3f4a-4e09-ab3a-c702f5f4917c",
   "metadata": {},
   "source": [
    "## Insights:\n",
    "## Restaurant Performance:\n",
    "\n",
    "#### Identifies chains with the highest average ratings.\n",
    "#### Indicates customer satisfaction and perceived quality.\n",
    "\n",
    "## Top Performers:\n",
    "\n",
    "#### Highlights the top 5 restaurant chains.\n",
    "#### Useful for stakeholders interested in high-quality dining options.\n",
    "#### Comparison:\n",
    "\n",
    "#### Enables easy visual comparison of top-rated restaurants.\n",
    "#### Shows how top restaurants stack up against each other.\n",
    "## Actionable Data:\n",
    "\n",
    "#### Restaurants can benchmark against top performers.\n",
    "#### Identifies areas for improvement based on customer ratings."
   ]
  },
  {
   "cell_type": "markdown",
   "id": "5e06e2f6-6dca-4644-850a-7bc4dcee8fb6",
   "metadata": {},
   "source": [
    "# Level 3\n",
    "# Task: Restaurant Reviews\n",
    "## Q1. Analyze the text reviews to identify the mostcommon positive and negative keywords.\n",
    "## Q2. Calculate the average length of reviews andexplore if there is a relationship between review length and rating.\n"
   ]
  },
  {
   "cell_type": "markdown",
   "id": "4989bf5f-b74d-40f6-b904-db335425ae7e",
   "metadata": {},
   "source": [
    "## Q1. Analyze the text reviews to identify the mostcommon positive and negative keywords."
   ]
  },
  {
   "cell_type": "code",
   "execution_count": 19,
   "id": "4bf71fe9-f4d2-4792-90d5-3ce1442593c5",
   "metadata": {},
   "outputs": [
    {
     "name": "stdout",
     "output_type": "stream",
     "text": [
      "      Restaurant ID           Restaurant Name  Country Code              City  \\\n",
      "0           6317637          Le Petit Souffle           162       Makati City   \n",
      "1           6304287          Izakaya Kikufuji           162       Makati City   \n",
      "2           6300002    Heat - Edsa Shangri-La           162  Mandaluyong City   \n",
      "3           6318506                      Ooma           162  Mandaluyong City   \n",
      "4           6314302               Sambo Kojin           162  Mandaluyong City   \n",
      "...             ...                       ...           ...               ...   \n",
      "9546        5915730               Naml۱ Gurme           208         ��stanbul   \n",
      "9547        5908749              Ceviz A��ac۱           208         ��stanbul   \n",
      "9548        5915807                     Huqqa           208         ��stanbul   \n",
      "9549        5916112               A���k Kahve           208         ��stanbul   \n",
      "9550        5927402  Walter's Coffee Roastery           208         ��stanbul   \n",
      "\n",
      "                                                Address  \\\n",
      "0     Third Floor, Century City Mall, Kalayaan Avenu...   \n",
      "1     Little Tokyo, 2277 Chino Roces Avenue, Legaspi...   \n",
      "2     Edsa Shangri-La, 1 Garden Way, Ortigas, Mandal...   \n",
      "3     Third Floor, Mega Fashion Hall, SM Megamall, O...   \n",
      "4     Third Floor, Mega Atrium, SM Megamall, Ortigas...   \n",
      "...                                                 ...   \n",
      "9546  Kemanke�� Karamustafa Pa��a Mahallesi, R۱ht۱m ...   \n",
      "9547  Ko��uyolu Mahallesi, Muhittin ��st�_nda�� Cadd...   \n",
      "9548  Kuru�_e��me Mahallesi, Muallim Naci Caddesi, N...   \n",
      "9549  Kuru�_e��me Mahallesi, Muallim Naci Caddesi, N...   \n",
      "9550  Cafea��a Mahallesi, Bademalt۱ Sokak, No 21/B, ...   \n",
      "\n",
      "                                        Locality  \\\n",
      "0      Century City Mall, Poblacion, Makati City   \n",
      "1     Little Tokyo, Legaspi Village, Makati City   \n",
      "2     Edsa Shangri-La, Ortigas, Mandaluyong City   \n",
      "3         SM Megamall, Ortigas, Mandaluyong City   \n",
      "4         SM Megamall, Ortigas, Mandaluyong City   \n",
      "...                                          ...   \n",
      "9546                                    Karak�_y   \n",
      "9547                                   Ko��uyolu   \n",
      "9548                                 Kuru�_e��me   \n",
      "9549                                 Kuru�_e��me   \n",
      "9550                                        Moda   \n",
      "\n",
      "                                       Locality Verbose   Longitude  \\\n",
      "0     Century City Mall, Poblacion, Makati City, Mak...  121.027535   \n",
      "1     Little Tokyo, Legaspi Village, Makati City, Ma...  121.014101   \n",
      "2     Edsa Shangri-La, Ortigas, Mandaluyong City, Ma...  121.056831   \n",
      "3     SM Megamall, Ortigas, Mandaluyong City, Mandal...  121.056475   \n",
      "4     SM Megamall, Ortigas, Mandaluyong City, Mandal...  121.057508   \n",
      "...                                                 ...         ...   \n",
      "9546                                Karak�_y, ��stanbul   28.977392   \n",
      "9547                               Ko��uyolu, ��stanbul   29.041297   \n",
      "9548                             Kuru�_e��me, ��stanbul   29.034640   \n",
      "9549                             Kuru�_e��me, ��stanbul   29.036019   \n",
      "9550                                    Moda, ��stanbul   29.026016   \n",
      "\n",
      "       Latitude                          Cuisines  ...          Currency  \\\n",
      "0     14.565443        French, Japanese, Desserts  ...  Botswana Pula(P)   \n",
      "1     14.553708                          Japanese  ...  Botswana Pula(P)   \n",
      "2     14.581404  Seafood, Asian, Filipino, Indian  ...  Botswana Pula(P)   \n",
      "3     14.585318                   Japanese, Sushi  ...  Botswana Pula(P)   \n",
      "4     14.584450                  Japanese, Korean  ...  Botswana Pula(P)   \n",
      "...         ...                               ...  ...               ...   \n",
      "9546  41.022793                           Turkish  ...  Turkish Lira(TL)   \n",
      "9547  41.009847   World Cuisine, Patisserie, Cafe  ...  Turkish Lira(TL)   \n",
      "9548  41.055817            Italian, World Cuisine  ...  Turkish Lira(TL)   \n",
      "9549  41.057979                   Restaurant Cafe  ...  Turkish Lira(TL)   \n",
      "9550  40.984776                              Cafe  ...  Turkish Lira(TL)   \n",
      "\n",
      "     Has Table booking Has Online delivery Is delivering now  \\\n",
      "0                  Yes                  No                No   \n",
      "1                  Yes                  No                No   \n",
      "2                  Yes                  No                No   \n",
      "3                   No                  No                No   \n",
      "4                  Yes                  No                No   \n",
      "...                ...                 ...               ...   \n",
      "9546                No                  No                No   \n",
      "9547                No                  No                No   \n",
      "9548                No                  No                No   \n",
      "9549                No                  No                No   \n",
      "9550                No                  No                No   \n",
      "\n",
      "     Switch to order menu Price range  Aggregate rating  Rating color  \\\n",
      "0                      No           3               4.8    Dark Green   \n",
      "1                      No           3               4.5    Dark Green   \n",
      "2                      No           4               4.4         Green   \n",
      "3                      No           4               4.9    Dark Green   \n",
      "4                      No           4               4.8    Dark Green   \n",
      "...                   ...         ...               ...           ...   \n",
      "9546                   No           3               4.1         Green   \n",
      "9547                   No           3               4.2         Green   \n",
      "9548                   No           4               3.7        Yellow   \n",
      "9549                   No           4               4.0         Green   \n",
      "9550                   No           2               4.0         Green   \n",
      "\n",
      "     Rating text Votes  \n",
      "0      Excellent   314  \n",
      "1      Excellent   591  \n",
      "2      Very Good   270  \n",
      "3      Excellent   365  \n",
      "4      Excellent   229  \n",
      "...          ...   ...  \n",
      "9546   Very Good   788  \n",
      "9547   Very Good  1034  \n",
      "9548        Good   661  \n",
      "9549   Very Good   901  \n",
      "9550   Very Good   591  \n",
      "\n",
      "[7217 rows x 21 columns]\n"
     ]
    }
   ],
   "source": [
    "positive_data =df.loc[df['Aggregate rating']>=2.5]\n",
    "print(positive_data )"
   ]
  },
  {
   "cell_type": "code",
   "execution_count": 24,
   "id": "cb33c020-657d-486d-965a-10f62fd312a5",
   "metadata": {},
   "outputs": [
    {
     "name": "stdout",
     "output_type": "stream",
     "text": [
      "['Excellent' 'Very Good' 'Good' 'Average']\n"
     ]
    }
   ],
   "source": [
    "positive_keywords = positive_data['Rating text'].unique()\n",
    "print(positive_keywords)"
   ]
  },
  {
   "cell_type": "code",
   "execution_count": 25,
   "id": "7888faab-f782-4540-b4e0-b9a8e48137cf",
   "metadata": {},
   "outputs": [
    {
     "data": {
      "image/png": "[encoded data removed]",
      "text/plain": [
       "<Figure size 640x480 with 1 Axes>"
      ]
     },
     "metadata": {},
     "output_type": "display_data"
    }
   ],
   "source": [
    "plt.hist(positive_data['Rating text'],label=positive_keywords)\n",
    "plt.show()"
   ]
  },
  {
   "cell_type": "markdown",
   "id": "fc48d7e1-44c8-47a8-925b-f76f3652ed2a",
   "metadata": {},
   "source": [
    "# Insights:\n",
    "# Rating Distribution:\n",
    "\n",
    "#### The histogram shows the frequency distribution of positive ratings, helping to identify the most common positive sentiments.\n",
    "\n",
    "# Customer Feedback:\n",
    "\n",
    "#### Provides a visual representation of how customers rate positively, useful for understanding overall customer satisfaction.\n",
    "\n",
    "# Keyword Association:\n",
    "\n",
    "#### By labeling with positive_keywords, you can see which keywords are associated with positive ratings, offering insights into what customers value most.\n"
   ]
  },
  {
   "cell_type": "code",
   "execution_count": 27,
   "id": "699dd010-4a2d-4000-ab66-528801af415e",
   "metadata": {},
   "outputs": [
    {
     "name": "stdout",
     "output_type": "stream",
     "text": [
      "['Poor']\n"
     ]
    }
   ],
   "source": [
    "negative_data =df.loc[(df[\"Aggregate rating\"]<2.5)&(df['Aggregate rating']>0)]\n",
    "# print(negative_data)\n",
    "negative_keywords =negative_data['Rating text'].unique()\n",
    "print(negative_keywords)"
   ]
  },
  {
   "cell_type": "code",
   "execution_count": 30,
   "id": "ab90d27f-a4b5-437a-bebf-f5753a188e36",
   "metadata": {},
   "outputs": [
    {
     "data": {
      "image/png": "[encoded data removed]",
      "text/plain": [
       "<Figure size 640x480 with 1 Axes>"
      ]
     },
     "metadata": {},
     "output_type": "display_data"
    }
   ],
   "source": [
    "plt.hist(negative_data['Rating text'],label=negative_keywords)\n",
    "plt.show()"
   ]
  },
  {
   "cell_type": "markdown",
   "id": "9fa48490-701f-48bb-a1df-0a79c4e4d70e",
   "metadata": {},
   "source": [
    "# Rating Distribution:\n",
    "\n",
    "#### Highlights common negative sentiments.\n",
    "\n",
    "# Customer Dissatisfaction:\n",
    "\n",
    "#### Provides insights into overall dissatisfaction.\n",
    "\n",
    "# Keyword Association:\n",
    "\n",
    "####  Identifies keywords linked to negative ratings.\n",
    "####      Helps understand underperforming areas.\n",
    "\n",
    "# Areas for Improvement:\n",
    "\n",
    "### Reveals specific issues for targeted improvements.\n",
    "\n",
    "\n",
    "\n",
    "\n",
    "\n"
   ]
  },
  {
   "cell_type": "markdown",
   "id": "4bad8099-55bd-471b-b3a4-3225425af92f",
   "metadata": {},
   "source": [
    "# Task 2\n",
    "# Task: Votes Analysis\n",
    "###  Q1.Identify the restaurants with the highest andlowest number of votes.\n",
    "###  Q2. Analyze if there is a correlation between thenumber of votes and the rating of arestaurant."
   ]
  },
  {
   "cell_type": "markdown",
   "id": "6c8c7f0e-0f3b-4ed8-ae8a-ff69da0abbe0",
   "metadata": {},
   "source": [
    "## Q1.Identify the restaurants with the highest andlowest number of votes."
   ]
  },
  {
   "cell_type": "code",
   "execution_count": 34,
   "id": "c5a06b06-8978-4643-8794-ecb73d0f8a64",
   "metadata": {},
   "outputs": [
    {
     "name": "stdout",
     "output_type": "stream",
     "text": [
      "The Higest Voted Resturent is : Barbeque Nation\n"
     ]
    }
   ],
   "source": [
    "Highest_voted_resturant =df.groupby('Restaurant Name')['Votes'].sum().sort_values(ascending=False)\n",
    "Highest_voted_resturant = Highest_voted_resturant.idxmax()\n",
    "print(\"The Higest Voted Resturent is :\",Highest_voted_resturant)"
   ]
  },
  {
   "cell_type": "code",
   "execution_count": 36,
   "id": "79a46db8-67d1-4faf-ac52-003ce8431673",
   "metadata": {},
   "outputs": [
    {
     "name": "stdout",
     "output_type": "stream",
     "text": [
      "The Lowest Voted  Resturent is:  Laxmi Food Corner\n"
     ]
    }
   ],
   "source": [
    "lowest_rated_resturant =df.groupby('Restaurant Name')['Votes'].sum().sort_values()\n",
    "lowest_rated_resturant=lowest_rated_resturant.idxmin()\n",
    "print(\"The Lowest Voted  Resturent is: \",lowest_rated_resturant)"
   ]
  },
  {
   "cell_type": "markdown",
   "id": "321358f2-9771-4cb5-9c9e-13184d5286d4",
   "metadata": {},
   "source": [
    "## Q2.Analyze if there is a correlation between thenumber of votes and the rating of arestaurant."
   ]
  },
  {
   "cell_type": "code",
   "execution_count": 41,
   "id": "68f7c51e-5123-44f5-b4e0-230b99c80fc2",
   "metadata": {},
   "outputs": [
    {
     "name": "stdout",
     "output_type": "stream",
     "text": [
      "[[-1.   -0.31]\n",
      " [-0.31 -1.  ]]\n"
     ]
    }
   ],
   "source": [
    "corelation=-np.corrcoef(df['Votes'],df['Aggregate rating'])\n",
    "corelation=np.round(corelation,2)\n",
    "print(corelation)"
   ]
  },
  {
   "cell_type": "code",
   "execution_count": 47,
   "id": "fdcbc0de-a5e0-4cd7-aa79-4f0a8b15390c",
   "metadata": {},
   "outputs": [
    {
     "data": {
      "image/png": "[encoded data removed]",
      "text/plain": [
       "<Figure size 1000x500 with 2 Axes>"
      ]
     },
     "metadata": {},
     "output_type": "display_data"
    }
   ],
   "source": [
    "import seaborn as sns\n",
    "plt.figure(figsize = (10,5),dpi=100)\n",
    "sns.heatmap(corelation,annot=True,fmt=\".2f\", linewidth=.4)\n",
    "plt.show()"
   ]
  },
  {
   "cell_type": "markdown",
   "id": "664af297-2a58-4339-80e6-1a5c77c028c2",
   "metadata": {},
   "source": [
    "\n",
    "# Insights\n",
    "# Correlation Visualization:\n",
    "\n",
    "### The heatmap effectively displays the correlation between variables.Annotated values help in understanding the strength and direction of relationships.Pattern Identification:\n",
    "\n",
    "#### Highlights strong positive and negative correlations.\n",
    "#### Identifies potential areas for further analysis or investigation.\n",
    "# Data Interpretation:\n",
    "\n",
    "#### Facilitates quick assessment of variable interactions.\n",
    "#### Helps in identifying multicollinearity issues.\n",
    "# Decision-Making:\n",
    "\n",
    "#### Supports data-driven decisions by visualizing key relationships.\n",
    "#### Assists in selecting relevant variables for predictive modeling.\n",
    "\n",
    "\n",
    "\n",
    "\n",
    "\n"
   ]
  },
  {
   "cell_type": "code",
   "execution_count": 50,
   "id": "e3c85aa2-3bbe-4d28-8883-68c577be7fd0",
   "metadata": {},
   "outputs": [
    {
     "data": {
      "image/png": "[encoded data removed]",
      "text/plain": [
       "<Figure size 640x480 with 1 Axes>"
      ]
     },
     "metadata": {},
     "output_type": "display_data"
    },
    {
     "name": "stdout",
     "output_type": "stream",
     "text": [
      "Aa per result corelation value =0.31,Which indicates there is a moderate positive corelation between these two variables,\n"
     ]
    }
   ],
   "source": [
    "sns.scatterplot(data=df ,y='Votes',hue ='Aggregate rating', x='Aggregate rating')\n",
    "sns.regplot(data=df,x='Aggregate rating', y='Votes',scatter=False)\n",
    "plt.title(f\"Correlation between Aggregate rating and votes:0.31\")\n",
    "plt.show()\n",
    "print(\"Aa per result corelation value =0.31,Which indicates there is a moderate positive corelation between these two variables,\")"
   ]
  },
  {
   "cell_type": "markdown",
   "id": "879625f7-6244-4cef-9605-da77a5a88d66",
   "metadata": {},
   "source": [
    "# Insights\n",
    "# Scatter Plot and Regression Line:\n",
    "\n",
    "#### Visualizes the relationship between Aggregate rating and Votes.\n",
    "#### The regression line indicates the trend and strength of the relationship.\n",
    "# Moderate Positive Correlation:\n",
    "\n",
    "#### A correlation value of 0.31 indicates a moderate positive relationship.\n",
    "#### As Aggregate rating increases, the number of Votes tends to increase as well.\n",
    "# Data Clarity:\n",
    "\n",
    "#### Color hue (Aggregate rating) helps in distinguishing data points.\n",
    "#### Enhances understanding of how ratings influence votes.\n",
    "\n",
    "# Decision-Making:\n",
    "\n",
    "#### Useful for businesses to understand the impact of ratings on customer engagement (votes).\n",
    "####  Helps in strategic planning to improve both ratings and customer feedback."
   ]
  },
  {
   "cell_type": "markdown",
   "id": "a1a81fe8-7cb2-49bd-b936-787e1226360b",
   "metadata": {},
   "source": [
    "# Task 3\n",
    "# Task: Price Range vs. Online Delivery andTable Booking"
   ]
  },
  {
   "cell_type": "markdown",
   "id": "90b85203-2eef-4b7a-9727-c6b48e18d36d",
   "metadata": {},
   "source": [
    "####  Q1.Analyze if there is a relationship between theprice range and the availability of onlinedelivery and table booking.\n",
    "####  Q2. Determine if higher-priced restaurants aremore likely to offer these services."
   ]
  },
  {
   "cell_type": "markdown",
   "id": "7205a0b7-2b2b-4ce8-8162-d81f84229053",
   "metadata": {},
   "source": [
    "## Q1.Analyze if there is a relationship between theprice range and the availability of onlinedelivery and table booking."
   ]
  },
  {
   "cell_type": "code",
   "execution_count": null,
   "id": "2ceee9d2-12ce-448d-899b-2e69a01c175a",
   "metadata": {},
   "outputs": [],
   "source": [
    "# To Analyzed this we need to plot 2 charts together."
   ]
  },
  {
   "cell_type": "code",
   "execution_count": 58,
   "id": "4d8ed15f-786f-4ccf-bd7f-2385f7ed735e",
   "metadata": {},
   "outputs": [],
   "source": [
    "x1 = df['Has Online delivery']\n",
    "y = df['Average Cost for two']\n",
    "x2 = df['Has Table booking']"
   ]
  },
  {
   "cell_type": "markdown",
   "id": "cd0e2c5e-e340-4464-abdf-b3fd48747641",
   "metadata": {},
   "source": [
    "### Plot 1 for Online Delivery with the avg cost\n",
    "### plot 2 for Table Booking with the avg cost"
   ]
  },
  {
   "cell_type": "code",
   "execution_count": 59,
   "id": "c3fe51f9-71dc-4776-8cc9-054b3982e3d4",
   "metadata": {},
   "outputs": [
    {
     "data": {
      "image/png": "[encoded data removed]",
      "text/plain": [
       "<Figure size 900x400 with 2 Axes>"
      ]
     },
     "metadata": {},
     "output_type": "display_data"
    }
   ],
   "source": [
    "plt.figure(figsize=(9,4))\n",
    "plt.subplot(1,2,1)\n",
    "sns.boxplot(x=x1,y=y)\n",
    "plt.xlabel('Online delivery')\n",
    "plt.ylabel('Average Cost for two')\n",
    "plt.title('Online delivery affected  by cost')\n",
    "plt.subplot(1,2,2)\n",
    "sns.boxplot(x=x2,y=y)\n",
    "plt.xlabel('Table booking')\n",
    "plt.ylabel('Average Cost for two')\n",
    "plt.title('Table booking affected by cost')\n",
    "plt.tight_layout()\n",
    "plt.show()"
   ]
  },
  {
   "cell_type": "markdown",
   "id": "617c79c2-04ea-4f60-aaf5-008d45ab5e45",
   "metadata": {},
   "source": [
    "# Insights\n",
    "\n",
    "# Online Delivery and Cost:\n",
    "#### Shows the relationship between online delivery options and average cost for two.\n",
    "#### Indicates if online delivery influences pricing strategy.\n",
    "\n",
    "# Table Booking and Cost:\n",
    "#### Illustrates the impact of table booking options on the average cost for two.\n",
    "#### Helps understand if table booking affects pricing.\n",
    "\n",
    "#  Distribution:\n",
    "#### Provides a visual summary of cost distribution for each category.\n",
    "#### Identifies potential outliers and the range of costs.\n",
    "\n",
    "# Business Strategy:\n",
    "####  Offers insights into how services like online delivery and table booking might affect pricing.\n",
    "####  Useful for making informed decisions on service offerings and pricing strategies."
   ]
  },
  {
   "cell_type": "code",
   "execution_count": 60,
   "id": "bdf0eb93-5f30-4684-b73b-2298abb141d8",
   "metadata": {},
   "outputs": [
    {
     "name": "stdout",
     "output_type": "stream",
     "text": [
      "Both the Online delivery and table booking are negetively impacted by the cost\n"
     ]
    }
   ],
   "source": [
    "print(\"Both the Online delivery and table booking are negetively impacted by the cost\")"
   ]
  },
  {
   "cell_type": "markdown",
   "id": "af4b3aae-cdd8-45fc-a3cd-c302213fabe2",
   "metadata": {},
   "source": [
    "## Q2.Determine if higher-priced restaurants aremore likely to offer these services."
   ]
  },
  {
   "cell_type": "code",
   "execution_count": 93,
   "id": "a4060dc2-4c19-4a0d-86d0-73f40905fe63",
   "metadata": {},
   "outputs": [
    {
     "name": "stdout",
     "output_type": "stream",
     "text": [
      "High priced Restaurants which have average cost more then 10,000 did not provide Online delivery as well as Table Booking facilities.\n"
     ]
    }
   ],
   "source": [
    "print(\"High priced Restaurants which have average cost more then 10,000 did not provide Online delivery as well as Table Booking facilities.\")"
   ]
  },
  {
   "cell_type": "code",
   "execution_count": 68,
   "id": "2fa4d9c8-ad71-425c-a362-1a99ff11d9c0",
   "metadata": {},
   "outputs": [
    {
     "data": {
      "image/png": "[encoded data removed]",
      "text/plain": [
       "<Figure size 900x400 with 2 Axes>"
      ]
     },
     "metadata": {},
     "output_type": "display_data"
    }
   ],
   "source": [
    "plt.figure(figsize=(9,4))\n",
    "plt.subplot(1,2,1)\n",
    "sns.boxplot(x=x1,y='Average Cost for two', data=df.loc[df['Average Cost for two']<10000])\n",
    "plt.title('online booking by cost')\n",
    "plt.subplot(1,2,2) \n",
    "sns.boxplot(x=x2,y='Average Cost for two',data=df.loc[df['Average Cost for two']<10000])\n",
    "plt.title('Table booking by cost')\n",
    "plt.tight_layout()\n",
    "plt.show()"
   ]
  },
  {
   "cell_type": "markdown",
   "id": "388803bf-3952-4356-bb27-7957a6a03f49",
   "metadata": {},
   "source": [
    "# insights\n",
    "\n",
    "#### Here’s a concise summary of each point related to the code for plotting:\n",
    "\n",
    "# 1. **Figure Dimensions**:\n",
    "\n",
    "####    - `plt.figure(figsize=(9,4))`: Sets the figure size to 9 inches wide by 4 inches tall.\n",
    "\n",
    "# 2. **Subplots**:\n",
    " \n",
    "  #### - `plt.subplot(1,2,1)`: Defines the first subplot in a 1x2 grid (1 row, 2 columns).\n",
    "\n",
    "  ####  - `plt.subplot(1,2,2)`: Defines the second subplot in the same 1x2 grid.\n",
    "\n",
    "# 3. **Boxplots**:\n",
    "\n",
    "  ####  - `sns.boxplot(x=x1, y=y)`: Creates a boxplot of 'Average Cost for two' by the 'Online delivery' variable.\n",
    "\n",
    "  #### - `sns.boxplot(x=x2, y=y)`: Creates a boxplot of 'Average Cost for two' by the 'Table booking' variable.\n",
    "\n",
    "# 4. **Labels and Titles**:\n",
    "\n",
    "  ####  - `plt.xlabel` and `plt.ylabel`: Label the x-axis and y-axis.\n",
    "\n",
    "  ####    - `plt.title`: Adds a title to each subplot.\n",
    "\n",
    "# 5. **Layout Adjustment**:\n",
    "\n",
    " ####  - `plt.tight_layout()`: Adjusts the layout to avoid overlap and ensure proper spacing.\n",
    "\n",
    "# 6. **Displaying the Plot**:\n",
    "\n",
    "  ####  - `plt.show()`: Renders and displays the figure with the subplots."
   ]
  },
  {
   "cell_type": "code",
   "execution_count": 67,
   "id": "3f79f1f5-e7bc-41bb-87b6-6ea9d80f8f1f",
   "metadata": {},
   "outputs": [
    {
     "name": "stdout",
     "output_type": "stream",
     "text": [
      "The Oniline delivery facility is present for only those resturent ,Where the avg cost is less then .\n",
      "The booking facility is available in restarurant with an average cost ranging from 1000 to 2000\n"
     ]
    }
   ],
   "source": [
    "print(\"The Oniline delivery facility is present for only those resturent ,Where the avg cost is less then .\")\n",
    "print(\"The booking facility is available in restarurant with an average cost ranging from 1000 to 2000\")"
   ]
  },
  {
   "cell_type": "code",
   "execution_count": null,
   "id": "2b22880b-85f7-4ba3-9ac9-507f9aa1f3c3",
   "metadata": {},
   "outputs": [],
   "source": []
  }
 ],
 "metadata": {
  "kernelspec": {
   "display_name": "Python 3 (ipykernel)",
   "language": "python",
   "name": "python3"
  },
  "language_info": {
   "codemirror_mode": {
    "name": "ipython",
    "version": 3
   },
   "file_extension": ".py",
   "mimetype": "text/x-python",
   "name": "python",
   "nbconvert_exporter": "python",
   "pygments_lexer": "ipython3",
   "version": "3.11.7"
  }
 },
 "nbformat": 4,
 "nbformat_minor": 5
}
